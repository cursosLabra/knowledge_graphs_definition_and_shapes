{
  "nbformat": 4,
  "nbformat_minor": 0,
  "metadata": {
    "colab": {
      "provenance": [],
      "toc_visible": true,
      "include_colab_link": true
    },
    "kernelspec": {
      "name": "python3",
      "display_name": "Python 3"
    },
    "language_info": {
      "name": "python"
    }
  },
  "cells": [
    {
      "cell_type": "markdown",
      "metadata": {
        "id": "view-in-github",
        "colab_type": "text"
      },
      "source": [
        "<a href=\"https://colab.research.google.com/github/cursosLabra/knowledge_graphs_definition_and_shapes/blob/main/Shaping_Knowledge_Graphs_with_Rudof.ipynb\" target=\"_parent\"><img src=\"https://colab.research.google.com/assets/colab-badge.svg\" alt=\"Open In Colab\"/></a>"
      ]
    },
    {
      "cell_type": "markdown",
      "source": [
        "# Knowledge Graphs: Definition and description"
      ],
      "metadata": {
        "id": "sUm7kokski_K"
      }
    },
    {
      "cell_type": "markdown",
      "source": [
        "## Introduction"
      ],
      "metadata": {
        "id": "f5hA3uPNYJL9"
      }
    },
    {
      "cell_type": "markdown",
      "source": [
        "This document contains some examples for a talk about Knowledge Graphs, definition and description. The talk has been given by [Jose Emilio Labra Gayo](https://labra.weso.es/)."
      ],
      "metadata": {
        "id": "7BCNib7NYNxs"
      }
    },
    {
      "cell_type": "markdown",
      "source": [
        "## Preliminaries: rudof library"
      ],
      "metadata": {
        "id": "HVRdoR9HYqPE"
      }
    },
    {
      "cell_type": "markdown",
      "source": [
        "The executable book is developed using [rudof](https://rudof-project.github.io/), an library that supports RDF data and RDF data shapes.\n",
        "\n",
        "`rudof` is available as a [command line tool](https://rudof-project.github.io/rudof/overview.html) for which we provide [binaries in Windows, Linux and Mac](https://github.com/rudof-project/rudof/releases).\n",
        "\n",
        "The library also contains Python bindings which are [publised in pypi](https://pypi.org/project/pyrudof/).\n",
        "\n",
        "The documentation for the Python bindings is available [here](https://pyrudof.readthedocs.io/en/latest/).\n",
        "\n",
        "In this Jupyter book we will be using Pyrudof, i.e. rudof with the Python bindings."
      ],
      "metadata": {
        "id": "FlaljkGCkn_Q"
      }
    },
    {
      "cell_type": "markdown",
      "source": [
        "### Install and initialize pyrudof"
      ],
      "metadata": {
        "id": "whZHWrGG6Y8O"
      }
    },
    {
      "cell_type": "markdown",
      "source": [
        "The library is available as `pyrudof`."
      ],
      "metadata": {
        "id": "YpF48mZrjqwo"
      }
    },
    {
      "cell_type": "code",
      "source": [
        "!pip install pyrudof"
      ],
      "metadata": {
        "colab": {
          "base_uri": "https://localhost:8080/"
        },
        "id": "voGWk2uO6gcP",
        "outputId": "671c0803-de34-4a6e-92a9-22c83b0d99f8"
      },
      "execution_count": 1,
      "outputs": [
        {
          "output_type": "stream",
          "name": "stdout",
          "text": [
            "Collecting pyrudof\n",
            "  Downloading pyrudof-0.1.114-cp37-abi3-manylinux_2_17_x86_64.manylinux2014_x86_64.whl.metadata (1.8 kB)\n",
            "Downloading pyrudof-0.1.114-cp37-abi3-manylinux_2_17_x86_64.manylinux2014_x86_64.whl (9.5 MB)\n",
            "\u001b[2K   \u001b[90m━━━━━━━━━━━━━━━━━━━━━━━━━━━━━━━━━━━━━━━━\u001b[0m \u001b[32m9.5/9.5 MB\u001b[0m \u001b[31m17.0 MB/s\u001b[0m eta \u001b[36m0:00:00\u001b[0m\n",
            "\u001b[?25hInstalling collected packages: pyrudof\n",
            "Successfully installed pyrudof-0.1.114\n"
          ]
        }
      ]
    },
    {
      "cell_type": "markdown",
      "source": [
        "The main entry point if a class called `Rudof` through which most of the functionality is provided."
      ],
      "metadata": {
        "id": "FzsA78qu-xXP"
      }
    },
    {
      "cell_type": "code",
      "execution_count": 2,
      "metadata": {
        "id": "I3jvDAPBJ3OQ"
      },
      "outputs": [],
      "source": [
        "from pyrudof import Rudof, RudofConfig"
      ]
    },
    {
      "cell_type": "markdown",
      "source": [
        "In order to initialize that class, it is possible to pass a RudofConfig instance which contains configuration parameters for customization."
      ],
      "metadata": {
        "id": "0Io7V7y9_G_P"
      }
    },
    {
      "cell_type": "code",
      "source": [
        "rudof = Rudof(RudofConfig())"
      ],
      "metadata": {
        "id": "OAV_KSrH6qn-"
      },
      "execution_count": 3,
      "outputs": []
    },
    {
      "cell_type": "markdown",
      "source": [
        "### Cloning the github repository"
      ],
      "metadata": {
        "id": "N_GzMU5045GW"
      }
    },
    {
      "cell_type": "markdown",
      "source": [
        "We clone the github repo that contains the examples"
      ],
      "metadata": {
        "id": "ZuPXlCxg48CY"
      }
    },
    {
      "cell_type": "code",
      "source": [
        "!git clone https://github.com/cursosLabra/knowledge_graphs_definition_and_shapes.git"
      ],
      "metadata": {
        "colab": {
          "base_uri": "https://localhost:8080/"
        },
        "id": "LQXWcky6c1V7",
        "outputId": "4bbdb0a5-4866-4432-ede6-d664f54eb1de"
      },
      "execution_count": 4,
      "outputs": [
        {
          "output_type": "stream",
          "name": "stdout",
          "text": [
            "Cloning into 'knowledge_graphs_definition_and_shapes'...\n",
            "remote: Enumerating objects: 53, done.\u001b[K\n",
            "remote: Counting objects: 100% (53/53), done.\u001b[K\n",
            "remote: Compressing objects: 100% (38/38), done.\u001b[K\n",
            "remote: Total 53 (delta 27), reused 32 (delta 13), pack-reused 0 (from 0)\u001b[K\n",
            "Receiving objects: 100% (53/53), 92.45 KiB | 1.25 MiB/s, done.\n",
            "Resolving deltas: 100% (27/27), done.\n"
          ]
        }
      ]
    },
    {
      "cell_type": "code",
      "source": [
        "%cd knowledge_graphs_definition_and_shapes/examples"
      ],
      "metadata": {
        "colab": {
          "base_uri": "https://localhost:8080/"
        },
        "id": "2GwESGK4e2gz",
        "outputId": "fde0d828-df73-422b-f47c-74d0b8fd4c77"
      },
      "execution_count": 5,
      "outputs": [
        {
          "output_type": "stream",
          "name": "stdout",
          "text": [
            "/content/knowledge_graphs_definition_and_shapes/examples\n"
          ]
        }
      ]
    },
    {
      "cell_type": "markdown",
      "source": [
        "## RDF data"
      ],
      "metadata": {
        "id": "rCOlUq9H_5b2"
      }
    },
    {
      "cell_type": "markdown",
      "source": [
        "[RDF](https://www.w3.org/TR/rdf11-concepts/) is a W3C recommendation. There is currently a W3C working group which is defining [RDF 1.2](https://www.w3.org/TR/rdf12-concepts/).\n",
        "\n",
        "We will define a small RDF model with information about Tim Berners-lee as:"
      ],
      "metadata": {
        "id": "5dOaqZtSZImE"
      }
    },
    {
      "cell_type": "code",
      "source": [
        "rudof.read_data(\"timbl.ttl\")"
      ],
      "metadata": {
        "id": "WH2rBJ5b_8go"
      },
      "execution_count": 6,
      "outputs": []
    },
    {
      "cell_type": "markdown",
      "source": [
        "The RDF data can easily be merged with other data."
      ],
      "metadata": {
        "id": "i-XbhuVvAwE3"
      }
    },
    {
      "cell_type": "markdown",
      "source": [
        "And the data can be serialized to different formats, like N-Triples or JSON-LD."
      ],
      "metadata": {
        "id": "wP64tMo5BESa"
      }
    },
    {
      "cell_type": "code",
      "source": [
        "from pyrudof import RDFFormat"
      ],
      "metadata": {
        "id": "yAUCSKN8BI3P"
      },
      "execution_count": 7,
      "outputs": []
    },
    {
      "cell_type": "code",
      "source": [
        "str = rudof.serialize_data(format=RDFFormat.NTriples)\n",
        "print(str)"
      ],
      "metadata": {
        "colab": {
          "base_uri": "https://localhost:8080/"
        },
        "id": "tPnnBBkwfebr",
        "outputId": "9697dd54-e747-4b49-f9b8-7adfefcf771c"
      },
      "execution_count": 8,
      "outputs": [
        {
          "output_type": "stream",
          "name": "stdout",
          "text": [
            "<http://example.org/UK> <http://www.w3.org/1999/02/22-rdf-syntax-ns#type> <http://example.org/Country> .\n",
            "<http://example.org/london> <http://example.org/country> <http://example.org/UK> .\n",
            "<http://example.org/london> <http://www.w3.org/1999/02/22-rdf-syntax-ns#type> <http://example.org/City> .\n",
            "<http://example.org/london> <http://www.w3.org/1999/02/22-rdf-syntax-ns#type> <http://example.org/Metropolis> .\n",
            "<http://example.org/timbl> <http://example.org/birthDate> \"1955-06-08\"^^<http://www.w3.org/2001/XMLSchema#date> .\n",
            "<http://example.org/timbl> <http://example.org/employer> <http://example.org/CERN> .\n",
            "<http://example.org/timbl> <http://example.org/knows> _:1 .\n",
            "<http://example.org/timbl> <http://www.w3.org/2000/01/rdf-schema#label> \"Tim Berners-Lee\" .\n",
            "<http://example.org/timbl> <http://example.org/birthPlace> <http://example.org/london> .\n",
            "<http://example.org/timbl> <http://www.w3.org/1999/02/22-rdf-syntax-ns#type> <http://example.org/Human> .\n",
            "<http://example.org/CERN> <http://www.w3.org/1999/02/22-rdf-syntax-ns#type> <http://example.org/Organization> .\n",
            "_:1 <http://example.org/birthPlace> <http://example.org/Spain> .\n",
            "\n"
          ]
        }
      ]
    },
    {
      "cell_type": "code",
      "source": [
        "str = rudof.serialize_data(format=RDFFormat.RDFXML)\n",
        "print(str)"
      ],
      "metadata": {
        "colab": {
          "base_uri": "https://localhost:8080/"
        },
        "id": "n6UEghaPff5D",
        "outputId": "755f170e-cca1-4d79-a0da-e58baa4540a9"
      },
      "execution_count": 9,
      "outputs": [
        {
          "output_type": "stream",
          "name": "stdout",
          "text": [
            "<?xml version=\"1.0\" encoding=\"UTF-8\"?>\n",
            "<rdf:RDF xmlns=\"http://example.org/\" xmlns:rdf=\"http://www.w3.org/1999/02/22-rdf-syntax-ns#\" xmlns:rdfs=\"http://www.w3.org/2000/01/rdf-schema#\" xmlns:xsd=\"http://www.w3.org/2001/XMLSchema#\">\n",
            "\t<Country rdf:about=\"http://example.org/UK\">\n",
            "\t</Country>\n",
            "\t<rdf:Description rdf:about=\"http://example.org/london\">\n",
            "\t\t<country rdf:resource=\"http://example.org/UK\"/>\n",
            "\t\t<rdf:type rdf:resource=\"http://example.org/City\"/>\n",
            "\t\t<rdf:type rdf:resource=\"http://example.org/Metropolis\"/>\n",
            "\t</rdf:Description>\n",
            "\t<rdf:Description rdf:about=\"http://example.org/timbl\">\n",
            "\t\t<birthDate rdf:datatype=\"http://www.w3.org/2001/XMLSchema#date\">1955-06-08</birthDate>\n",
            "\t\t<employer rdf:resource=\"http://example.org/CERN\"/>\n",
            "\t\t<knows rdf:nodeID=\"1\"/>\n",
            "\t\t<rdfs:label>Tim Berners-Lee</rdfs:label>\n",
            "\t\t<birthPlace rdf:resource=\"http://example.org/london\"/>\n",
            "\t\t<rdf:type rdf:resource=\"http://example.org/Human\"/>\n",
            "\t</rdf:Description>\n",
            "\t<Organization rdf:about=\"http://example.org/CERN\">\n",
            "\t</Organization>\n",
            "\t<rdf:Description rdf:nodeID=\"1\">\n",
            "\t\t<birthPlace rdf:resource=\"http://example.org/Spain\"/>\n",
            "\t</rdf:Description>\n",
            "</rdf:RDF>\n"
          ]
        }
      ]
    },
    {
      "cell_type": "code",
      "source": [
        "str = rudof.serialize_data(format=RDFFormat.JsonLd)\n",
        "print(str)"
      ],
      "metadata": {
        "colab": {
          "base_uri": "https://localhost:8080/"
        },
        "id": "PGqKCNOGfjY0",
        "outputId": "440f5d59-0132-4f3c-d98e-3b8635667f1e"
      },
      "execution_count": 10,
      "outputs": [
        {
          "output_type": "stream",
          "name": "stdout",
          "text": [
            "[{\"@id\":\"http://example.org/UK\",\"http://www.w3.org/1999/02/22-rdf-syntax-ns#type\":[{\"@id\":\"http://example.org/Country\"}]},{\"@id\":\"http://example.org/london\",\"http://example.org/country\":[{\"@id\":\"http://example.org/UK\"}],\"http://www.w3.org/1999/02/22-rdf-syntax-ns#type\":[{\"@id\":\"http://example.org/City\"},{\"@id\":\"http://example.org/Metropolis\"}]},{\"@id\":\"http://example.org/timbl\",\"http://example.org/birthDate\":[{\"@type\":\"http://www.w3.org/2001/XMLSchema#date\",\"@value\":\"1955-06-08\"}],\"http://example.org/employer\":[{\"@id\":\"http://example.org/CERN\"}],\"http://example.org/knows\":[{\"@id\":\"_:1\"}],\"http://www.w3.org/2000/01/rdf-schema#label\":[{\"@value\":\"Tim Berners-Lee\"}],\"http://example.org/birthPlace\":[{\"@id\":\"http://example.org/london\"}],\"http://www.w3.org/1999/02/22-rdf-syntax-ns#type\":[{\"@id\":\"http://example.org/Human\"}]},{\"@id\":\"http://example.org/CERN\",\"http://www.w3.org/1999/02/22-rdf-syntax-ns#type\":[{\"@id\":\"http://example.org/Organization\"}]},{\"@id\":\"_:1\",\"http://example.org/birthPlace\":[{\"@id\":\"http://example.org/Spain\"}]}]\n"
          ]
        }
      ]
    },
    {
      "cell_type": "code",
      "source": [
        "str = rudof.serialize_data(format=RDFFormat.Turtle)\n",
        "print(str)"
      ],
      "metadata": {
        "colab": {
          "base_uri": "https://localhost:8080/"
        },
        "id": "sgKNTV7-nm6q",
        "outputId": "bac8c920-3cf6-4949-937f-0eeeb59bf6a5"
      },
      "execution_count": 11,
      "outputs": [
        {
          "output_type": "stream",
          "name": "stdout",
          "text": [
            "@prefix rdf: <http://www.w3.org/1999/02/22-rdf-syntax-ns#> .\n",
            "@prefix rdfs: <http://www.w3.org/2000/01/rdf-schema#> .\n",
            "@prefix xsd: <http://www.w3.org/2001/XMLSchema#> .\n",
            "@prefix : <http://example.org/> .\n",
            ":UK a :Country .\n",
            ":london :country :UK ;\n",
            "\ta :City , :Metropolis .\n",
            ":timbl :birthDate \"1955-06-08\"^^xsd:date ;\n",
            "\t:employer :CERN ;\n",
            "\t:knows _:1 ;\n",
            "\trdfs:label \"Tim Berners-Lee\" ;\n",
            "\t:birthPlace :london ;\n",
            "\ta :Human .\n",
            ":CERN a :Organization .\n",
            "_:1 :birthPlace :Spain .\n",
            "\n"
          ]
        }
      ]
    },
    {
      "cell_type": "markdown",
      "source": [
        "## Running SPARQL queries"
      ],
      "metadata": {
        "id": "5aaV_e6KBpk_"
      }
    },
    {
      "cell_type": "code",
      "source": [
        "rudof.read_query(\"timbl.sparql\")\n"
      ],
      "metadata": {
        "id": "ags_QBb4DVaC"
      },
      "execution_count": 12,
      "outputs": []
    },
    {
      "cell_type": "code",
      "source": [
        "results = rudof.run_current_query_select()"
      ],
      "metadata": {
        "id": "wXOSjbnBlbIa"
      },
      "execution_count": 13,
      "outputs": []
    },
    {
      "cell_type": "markdown",
      "source": [
        "Show the results:"
      ],
      "metadata": {
        "id": "w4x5cYh-CBnP"
      }
    },
    {
      "cell_type": "code",
      "source": [
        "for result in iter(results):\n",
        "    print(result.show())"
      ],
      "metadata": {
        "id": "t8Bp-fcSCDsW",
        "outputId": "6a7bccbc-9928-4c21-d8c0-74b3ef078ae7",
        "colab": {
          "base_uri": "https://localhost:8080/"
        }
      },
      "execution_count": 14,
      "outputs": [
        {
          "output_type": "stream",
          "name": "stdout",
          "text": [
            "?person -> <http://example.org/timbl>\n",
            "?date -> \"1955-06-08\"^^<http://www.w3.org/2001/XMLSchema#date>\n",
            "?country -> <http://example.org/UK>\n",
            "\n"
          ]
        }
      ]
    },
    {
      "cell_type": "markdown",
      "source": [
        "## Visualizing RDF"
      ],
      "metadata": {
        "id": "TB3OJBjRz3t9"
      }
    },
    {
      "cell_type": "markdown",
      "source": [
        "rudof is able to generate visualizations of RDF graphs. In order to generate visualizations, rudof leverages on plantuml, so it generates a file in plantuml syntax that can be used to generate a picture in SVG, PNG, etc."
      ],
      "metadata": {
        "id": "_67Z6ga1z7o3"
      }
    },
    {
      "cell_type": "code",
      "source": [
        "! pip install plantuml"
      ],
      "metadata": {
        "colab": {
          "base_uri": "https://localhost:8080/"
        },
        "id": "puwFVuKN4MoP",
        "outputId": "9d547ea1-2c5a-4526-a2bd-f1ce3d698692"
      },
      "execution_count": 15,
      "outputs": [
        {
          "output_type": "stream",
          "name": "stdout",
          "text": [
            "Collecting plantuml\n",
            "  Downloading plantuml-0.3.0-py3-none-any.whl.metadata (2.5 kB)\n",
            "Requirement already satisfied: httplib2 in /usr/local/lib/python3.12/dist-packages (from plantuml) (0.31.0)\n",
            "Requirement already satisfied: pyparsing<4,>=3.0.4 in /usr/local/lib/python3.12/dist-packages (from httplib2->plantuml) (3.2.4)\n",
            "Downloading plantuml-0.3.0-py3-none-any.whl (5.8 kB)\n",
            "Installing collected packages: plantuml\n",
            "Successfully installed plantuml-0.3.0\n"
          ]
        }
      ]
    },
    {
      "cell_type": "code",
      "source": [
        "! pip install ipython"
      ],
      "metadata": {
        "colab": {
          "base_uri": "https://localhost:8080/"
        },
        "id": "0hZeehOb4QuE",
        "outputId": "4d167e0f-b124-487b-cdec-3dd2c530c0fc"
      },
      "execution_count": 16,
      "outputs": [
        {
          "output_type": "stream",
          "name": "stdout",
          "text": [
            "Requirement already satisfied: ipython in /usr/local/lib/python3.12/dist-packages (7.34.0)\n",
            "Requirement already satisfied: setuptools>=18.5 in /usr/local/lib/python3.12/dist-packages (from ipython) (75.2.0)\n",
            "Collecting jedi>=0.16 (from ipython)\n",
            "  Downloading jedi-0.19.2-py2.py3-none-any.whl.metadata (22 kB)\n",
            "Requirement already satisfied: decorator in /usr/local/lib/python3.12/dist-packages (from ipython) (4.4.2)\n",
            "Requirement already satisfied: pickleshare in /usr/local/lib/python3.12/dist-packages (from ipython) (0.7.5)\n",
            "Requirement already satisfied: traitlets>=4.2 in /usr/local/lib/python3.12/dist-packages (from ipython) (5.7.1)\n",
            "Requirement already satisfied: prompt-toolkit!=3.0.0,!=3.0.1,<3.1.0,>=2.0.0 in /usr/local/lib/python3.12/dist-packages (from ipython) (3.0.52)\n",
            "Requirement already satisfied: pygments in /usr/local/lib/python3.12/dist-packages (from ipython) (2.19.2)\n",
            "Requirement already satisfied: backcall in /usr/local/lib/python3.12/dist-packages (from ipython) (0.2.0)\n",
            "Requirement already satisfied: matplotlib-inline in /usr/local/lib/python3.12/dist-packages (from ipython) (0.1.7)\n",
            "Requirement already satisfied: pexpect>4.3 in /usr/local/lib/python3.12/dist-packages (from ipython) (4.9.0)\n",
            "Requirement already satisfied: parso<0.9.0,>=0.8.4 in /usr/local/lib/python3.12/dist-packages (from jedi>=0.16->ipython) (0.8.5)\n",
            "Requirement already satisfied: ptyprocess>=0.5 in /usr/local/lib/python3.12/dist-packages (from pexpect>4.3->ipython) (0.7.0)\n",
            "Requirement already satisfied: wcwidth in /usr/local/lib/python3.12/dist-packages (from prompt-toolkit!=3.0.0,!=3.0.1,<3.1.0,>=2.0.0->ipython) (0.2.13)\n",
            "Downloading jedi-0.19.2-py2.py3-none-any.whl (1.6 MB)\n",
            "\u001b[2K   \u001b[90m━━━━━━━━━━━━━━━━━━━━━━━━━━━━━━━━━━━━━━━━\u001b[0m \u001b[32m1.6/1.6 MB\u001b[0m \u001b[31m14.2 MB/s\u001b[0m eta \u001b[36m0:00:00\u001b[0m\n",
            "\u001b[?25hInstalling collected packages: jedi\n",
            "Successfully installed jedi-0.19.2\n"
          ]
        }
      ]
    },
    {
      "cell_type": "code",
      "source": [
        "uml = rudof.data2plantuml_file('out.puml')"
      ],
      "metadata": {
        "id": "dGWHl1l70U5F"
      },
      "execution_count": 17,
      "outputs": []
    },
    {
      "cell_type": "code",
      "source": [
        "!python -m plantuml out.puml"
      ],
      "metadata": {
        "colab": {
          "base_uri": "https://localhost:8080/"
        },
        "id": "wbb12ETx0bmF",
        "outputId": "02a75f41-e6f9-4196-8084-6f32e08b47c4"
      },
      "execution_count": 18,
      "outputs": [
        {
          "output_type": "stream",
          "name": "stdout",
          "text": [
            "[{'filename': 'out.puml', 'gen_success': True}]\n"
          ]
        }
      ]
    },
    {
      "cell_type": "code",
      "source": [
        "from IPython.display import Image"
      ],
      "metadata": {
        "id": "I020o3P91uRW"
      },
      "execution_count": 19,
      "outputs": []
    },
    {
      "cell_type": "code",
      "source": [
        "Image(f\"out.png\")"
      ],
      "metadata": {
        "colab": {
          "base_uri": "https://localhost:8080/",
          "height": 405
        },
        "id": "OiHtvzLh0gOd",
        "outputId": "07ee1ce8-db86-4996-dda8-848de9bc9ed2"
      },
      "execution_count": 20,
      "outputs": [
        {
          "output_type": "execute_result",
          "data": {
            "image/png": "[encoded data removed]",
            "text/plain": [
              "<IPython.core.display.Image object>"
            ]
          },
          "metadata": {},
          "execution_count": 20
        }
      ]
    },
    {
      "cell_type": "markdown",
      "source": [
        "## Working with SPARQL endpoints"
      ],
      "metadata": {
        "id": "SHBaH28rVE69"
      }
    },
    {
      "cell_type": "markdown",
      "source": [
        "It is also possible to work with SPARQL endpoints, which can also be merged with the current RDF data"
      ],
      "metadata": {
        "id": "QBe9VrfeVMpl"
      }
    },
    {
      "cell_type": "code",
      "source": [
        "rudof.add_endpoint(\"https://query.wikidata.org/sparql\")"
      ],
      "metadata": {
        "id": "9GTAICG8VUZ8"
      },
      "execution_count": 21,
      "outputs": []
    },
    {
      "cell_type": "code",
      "source": [
        "wikidata_query = \"\"\"\n",
        "prefix rdfs: <http://www.w3.org/2000/01/rdf-schema#>\n",
        "prefix wd: <http://www.wikidata.org/entity/>\n",
        "prefix wdt: <http://www.wikidata.org/prop/direct/>\n",
        "\n",
        "\n",
        "SELECT ?birthPlace ?birthDate ?birthPlaceLabel WHERE {\n",
        "  wd:Q80 wdt:P19 ?birthPlace ;\n",
        "         wdt:P569 ?birthDate ;\n",
        "         rdfs:label ?personLabel .\n",
        "  ?birthPlace rdfs:label ?birthPlaceLabel .\n",
        "  FILTER(\n",
        "    lang(?personLabel) = \"en\" &&\n",
        "    lang(?birthPlaceLabel) = \"en\"\n",
        "  )\n",
        "}\n",
        "\"\"\"\n"
      ],
      "metadata": {
        "id": "fpQ5dF-wVMEu"
      },
      "execution_count": 22,
      "outputs": []
    },
    {
      "cell_type": "code",
      "source": [
        "results = rudof.run_query_str(wikidata_query)"
      ],
      "metadata": {
        "id": "Swf97nJwW91l"
      },
      "execution_count": 23,
      "outputs": []
    },
    {
      "cell_type": "code",
      "source": [
        "for result in iter(results):\n",
        "    print(result.show())"
      ],
      "metadata": {
        "colab": {
          "base_uri": "https://localhost:8080/"
        },
        "id": "bgwRpHcFXDQd",
        "outputId": "d0f2c52a-b35a-4538-8e6a-fcb132242163"
      },
      "execution_count": 24,
      "outputs": [
        {
          "output_type": "stream",
          "name": "stdout",
          "text": [
            "?birthPlace -> <http://www.wikidata.org/entity/Q84>\n",
            "?birthDate -> \"1955-06-08T00:00:00Z\"^^<http://www.w3.org/2001/XMLSchema#dateTime>\n",
            "?birthPlaceLabel -> \"London\"@en\n",
            "\n"
          ]
        }
      ]
    },
    {
      "cell_type": "markdown",
      "source": [
        "## Validate using ShEx"
      ],
      "metadata": {
        "id": "JUgsyHtW7bA5"
      }
    },
    {
      "cell_type": "markdown",
      "source": [
        "The next command is just to clean the RDF data for the next examples."
      ],
      "metadata": {
        "id": "okXYzo-XmrPG"
      }
    },
    {
      "cell_type": "code",
      "source": [
        "rudof.reset_all()"
      ],
      "metadata": {
        "id": "XjFw6_IwkMwz"
      },
      "execution_count": 25,
      "outputs": []
    },
    {
      "cell_type": "code",
      "source": [
        "rudof.read_shex(\"researcher.shex\")\n"
      ],
      "metadata": {
        "id": "CwDQcbAq7XJe"
      },
      "execution_count": 26,
      "outputs": []
    },
    {
      "cell_type": "markdown",
      "source": [
        "We can read some RDF data"
      ],
      "metadata": {
        "id": "b8mjwe2wl_Zq"
      }
    },
    {
      "cell_type": "code",
      "source": [
        "rudof.read_data(\"timbl.ttl\")"
      ],
      "metadata": {
        "id": "yo97eI09nFOm"
      },
      "execution_count": 27,
      "outputs": []
    },
    {
      "cell_type": "markdown",
      "source": [
        "In ShEx, a shapemap can be used to associate target nodes with shapes to check if they conform."
      ],
      "metadata": {
        "id": "04jyB3wTl20a"
      }
    },
    {
      "cell_type": "code",
      "source": [
        "rudof.read_shapemap(\"timbl.shapemap\")"
      ],
      "metadata": {
        "id": "_EFY-RpNnHwh"
      },
      "execution_count": 28,
      "outputs": []
    },
    {
      "cell_type": "markdown",
      "source": [
        "Once the ShEx schema and the Shapemap have been added to `rudof`, it is possible to validate the current RDF data with the `validate_shex()` method:"
      ],
      "metadata": {
        "id": "lPmFJd_XkMwy"
      }
    },
    {
      "cell_type": "code",
      "source": [
        "result = rudof.validate_shex()"
      ],
      "metadata": {
        "id": "T9TB6vAHkMwy"
      },
      "execution_count": 29,
      "outputs": []
    },
    {
      "cell_type": "markdown",
      "source": [
        "`validate_shex()` returns a `ResultShapeMap` object which contains a `show()` method to show the results of the validation:"
      ],
      "metadata": {
        "id": "pejGdArPkMwy"
      }
    },
    {
      "cell_type": "code",
      "source": [
        "print(result.show())"
      ],
      "metadata": {
        "colab": {
          "base_uri": "https://localhost:8080/"
        },
        "outputId": "5d0ca2dd-58d6-4e0e-b245-fc16dfd232bc",
        "id": "aT44AomYkMwy"
      },
      "execution_count": 30,
      "outputs": [
        {
          "output_type": "stream",
          "name": "stdout",
          "text": [
            ":timbl@<http://example.org/Researcher> -> OK, reason: Reason #Shape passed. Node http://example.org/timbl, shape: Shape  Preds: http://www.w3.org/2000/01/rdf-schema#label,http://example.org/birthPlace,http://example.org/birthDate,http://example.org/employer\n",
            "RBE: C0{1, 1};C1?;C2?;C3*;\n",
            "Keys:\n",
            " http://www.w3.org/2000/01/rdf-schema#label -> [ C0 ]\n",
            " http://example.org/birthPlace -> [ C1 ]\n",
            " http://example.org/birthDate -> [ C2 ]\n",
            " http://example.org/employer -> [ C3 ]\n",
            "Components:\n",
            " C0 -> http://www.w3.org/2000/01/rdf-schema#label datatype(http://www.w3.org/2001/XMLSchema#string)\n",
            " C1 -> http://example.org/birthPlace @1\n",
            " C2 -> http://example.org/birthDate datatype(http://www.w3.org/2001/XMLSchema#date)\n",
            " C3 -> http://example.org/employer @2\n",
            "\n",
            ": 0\n",
            "\n"
          ]
        }
      ]
    },
    {
      "cell_type": "markdown",
      "source": [
        "We reset the status of the `ShEx` schema, the `Shapemap` and the current `RDF data` for the next section."
      ],
      "metadata": {
        "id": "jN72VA60kMwz"
      }
    },
    {
      "cell_type": "markdown",
      "source": [
        "## Validate using SHACL"
      ],
      "metadata": {
        "id": "RdCph-Et7PwG"
      }
    },
    {
      "cell_type": "markdown",
      "source": [
        "First we reset the status of rudof using `rudof.reset_all()`"
      ],
      "metadata": {
        "id": "r_P2X0EhXZVV"
      }
    },
    {
      "cell_type": "code",
      "source": [
        "# @title\n",
        "rudof.reset_all()"
      ],
      "metadata": {
        "id": "3ridiHLC_eS-"
      },
      "execution_count": 31,
      "outputs": []
    },
    {
      "cell_type": "markdown",
      "source": [
        "Let's read some RDF data."
      ],
      "metadata": {
        "id": "jr6gkZuQ_WaO"
      }
    },
    {
      "cell_type": "code",
      "source": [
        "rudof.read_data(\"timbl.ttl\")"
      ],
      "metadata": {
        "id": "Mql8MdI06vj3"
      },
      "execution_count": 32,
      "outputs": []
    },
    {
      "cell_type": "code",
      "source": [
        "rudof.read_shacl(\"timbl_shapes.ttl\")"
      ],
      "metadata": {
        "id": "jZzlVjXp60H2",
        "colab": {
          "base_uri": "https://localhost:8080/",
          "height": 141
        },
        "outputId": "6b59e8a8-1722-43cc-dc23-e5c5b7b2719e"
      },
      "execution_count": 33,
      "outputs": [
        {
          "output_type": "error",
          "ename": "ValueError",
          "evalue": "Reading SHACL shapes graph. Parsing timbl_shapes.ttl: Url parsing error for :timbl_shapes.ttl relative URL without a base",
          "traceback": [
            "\u001b[0;31m---------------------------------------------------------------------------\u001b[0m",
            "\u001b[0;31mValueError\u001b[0m                                Traceback (most recent call last)",
            "\u001b[0;32m/tmp/ipython-input-2825495552.py\u001b[0m in \u001b[0;36m<cell line: 0>\u001b[0;34m()\u001b[0m\n\u001b[0;32m----> 1\u001b[0;31m \u001b[0mrudof\u001b[0m\u001b[0;34m.\u001b[0m\u001b[0mread_shacl\u001b[0m\u001b[0;34m(\u001b[0m\u001b[0;34m\"timbl_shapes.ttl\"\u001b[0m\u001b[0;34m)\u001b[0m\u001b[0;34m\u001b[0m\u001b[0;34m\u001b[0m\u001b[0m\n\u001b[0m",
            "\u001b[0;31mValueError\u001b[0m: Reading SHACL shapes graph. Parsing timbl_shapes.ttl: Url parsing error for :timbl_shapes.ttl relative URL without a base"
          ]
        }
      ]
    },
    {
      "cell_type": "code",
      "source": [
        "result = rudof.validate_shacl()"
      ],
      "metadata": {
        "id": "1fidxZsb643H"
      },
      "execution_count": null,
      "outputs": []
    },
    {
      "cell_type": "code",
      "source": [
        "print(result.show())"
      ],
      "metadata": {
        "id": "L_gWERG86665"
      },
      "execution_count": null,
      "outputs": []
    },
    {
      "cell_type": "markdown",
      "source": [
        "## Converting ShEx to UML"
      ],
      "metadata": {
        "id": "_7iBx5Ocn1Fc"
      }
    },
    {
      "cell_type": "markdown",
      "source": [
        "`rudof` can be used to convert ShEx to diagrams in UML-like style. The converter generates a [PlantUML](https://plantuml.com/) string which can be written to a file and converted to an image using the PlantUML tool."
      ],
      "metadata": {
        "id": "2KRvu2HXJ3Bi"
      }
    },
    {
      "cell_type": "code",
      "source": [
        "from pyrudof import UmlGenerationMode"
      ],
      "metadata": {
        "id": "cO0QQJJSlm1j"
      },
      "execution_count": null,
      "outputs": []
    },
    {
      "cell_type": "code",
      "source": [
        "rudof.read_shex_str(\"\"\"\n",
        "prefix : <http://example.org/>\n",
        "prefix xsd:    <http://www.w3.org/2001/XMLSchema#>\n",
        "\n",
        ":Person {\n",
        " :name     xsd:string    ;\n",
        " :age      xsd:integer * ;\n",
        " :worksFor @:Company     ;\n",
        " :address  @:Address     ;\n",
        " :knows    @:Person      ;\n",
        "}\n",
        "\n",
        ":Company {\n",
        "  :name xsd:string     ;\n",
        "  :code xsd:integer    ;\n",
        "}\n",
        "\n",
        ":Address {\n",
        "  :street     xsd:string   ;\n",
        "  :country    @:Country    ;\n",
        "  :postalCode xsd:string   ;\n",
        "}\n",
        "\n",
        ":Country {\n",
        "  :name xsd:string ;\n",
        "}\n",
        "\"\"\")"
      ],
      "metadata": {
        "id": "cZThqbvXn4y1"
      },
      "execution_count": null,
      "outputs": []
    },
    {
      "cell_type": "code",
      "source": [
        "plant_uml = rudof.shex2plantuml_file(UmlGenerationMode(), 'out.puml')"
      ],
      "metadata": {
        "id": "TgF9X8BoHyft"
      },
      "execution_count": null,
      "outputs": []
    },
    {
      "cell_type": "markdown",
      "source": [
        "Now we install the PlantUML tools necessary to process the generated `plant_uml`"
      ],
      "metadata": {
        "id": "BkET25UlKblP"
      }
    },
    {
      "cell_type": "code",
      "source": [
        "! pip install plantuml"
      ],
      "metadata": {
        "id": "WK_yRDiXIS9x"
      },
      "execution_count": null,
      "outputs": []
    },
    {
      "cell_type": "code",
      "source": [
        "! pip install ipython"
      ],
      "metadata": {
        "id": "Uztbqe6bJGXj"
      },
      "execution_count": null,
      "outputs": []
    },
    {
      "cell_type": "code",
      "source": [
        "!python -m plantuml out.puml"
      ],
      "metadata": {
        "id": "VTN0x4H-I4Mo"
      },
      "execution_count": null,
      "outputs": []
    },
    {
      "cell_type": "code",
      "source": [
        "from IPython.display import Image"
      ],
      "metadata": {
        "id": "XrFhCm6yJP3x"
      },
      "execution_count": null,
      "outputs": []
    },
    {
      "cell_type": "code",
      "source": [
        "Image(f\"out.png\")"
      ],
      "metadata": {
        "id": "e4dRHoIUJabG"
      },
      "execution_count": null,
      "outputs": []
    },
    {
      "cell_type": "code",
      "source": [
        "rudof.reset_all()"
      ],
      "metadata": {
        "id": "ZLuBCHWpFuIR"
      },
      "execution_count": null,
      "outputs": []
    },
    {
      "cell_type": "markdown",
      "source": [
        "## Converting DCTAP to ShEx"
      ],
      "metadata": {
        "id": "W0j6rPmxJfPY"
      }
    },
    {
      "cell_type": "markdown",
      "source": [
        "Rudof can be used to convert [DCTAP](https://www.dublincore.org/specifications/dctap/) files to ShEx."
      ],
      "metadata": {
        "id": "xFXK6AkjJnmy"
      }
    },
    {
      "cell_type": "markdown",
      "source": [
        "DCTAP can be used to represent shapes using a tabular representation using CSV or an spreadsheet format like XLSX. As an example, the following CSV data:\n"
      ],
      "metadata": {
        "id": "mFtcvAieQP7Q"
      }
    },
    {
      "cell_type": "code",
      "source": [
        "dctap_str = \"\"\"shapeId,propertyId,Mandatory,Repeatable,valueDatatype,valueShape\n",
        "Person,name,true,false,xsd:string,\n",
        ",birthdate,false,false,xsd:date,\n",
        ",worksFor,false,true,,Company\n",
        "Company,name,true,false,xsd:string,\n",
        ",employee,false,true,,Person\n",
        "\"\"\""
      ],
      "metadata": {
        "id": "2E6N1wzZQk23"
      },
      "execution_count": null,
      "outputs": []
    },
    {
      "cell_type": "code",
      "source": [
        "rudof.read_dctap_str(dctap_str)"
      ],
      "metadata": {
        "id": "k66wE-LPJyvR"
      },
      "execution_count": null,
      "outputs": []
    },
    {
      "cell_type": "code",
      "source": [
        "dctap = rudof.get_dctap()"
      ],
      "metadata": {
        "id": "1vx602BebWqH"
      },
      "execution_count": null,
      "outputs": []
    },
    {
      "cell_type": "code",
      "source": [
        "print(dctap)"
      ],
      "metadata": {
        "id": "G-SnI2jfbnpX"
      },
      "execution_count": null,
      "outputs": []
    },
    {
      "cell_type": "markdown",
      "source": [
        "It is possible to convert the DCTAP obtained to ShEx"
      ],
      "metadata": {
        "id": "utlhcAiYFjdv"
      }
    },
    {
      "cell_type": "code",
      "source": [
        "rudof.dctap2shex()\n"
      ],
      "metadata": {
        "id": "djzyJkAxFhIV"
      },
      "execution_count": null,
      "outputs": []
    },
    {
      "cell_type": "code",
      "source": [
        "from pyrudof import ShExFormatter"
      ],
      "metadata": {
        "id": "2IwnrHIOFxGM"
      },
      "execution_count": null,
      "outputs": []
    },
    {
      "cell_type": "code",
      "source": [
        "shex = rudof.get_shex()\n",
        "\n",
        "result = rudof.serialize_shex(shex, ShExFormatter())\n"
      ],
      "metadata": {
        "id": "04gjCw2lFoak"
      },
      "execution_count": null,
      "outputs": []
    },
    {
      "cell_type": "code",
      "source": [
        "print(result)"
      ],
      "metadata": {
        "id": "KZBeAbztGCSh"
      },
      "execution_count": null,
      "outputs": []
    },
    {
      "cell_type": "markdown",
      "source": [
        "# Support for RDF 1.2"
      ],
      "metadata": {
        "id": "yju-jjtPuNhO"
      }
    },
    {
      "cell_type": "markdown",
      "source": [
        "## RDF 1.2 data"
      ],
      "metadata": {
        "id": "hTZo3GWfsGpy"
      }
    },
    {
      "cell_type": "markdown",
      "source": [
        "Reset previous state of `rudof` and remnove the temporary file `out.puml` if it exists."
      ],
      "metadata": {
        "id": "pAu8aiVgZ2m7"
      }
    },
    {
      "cell_type": "code",
      "source": [
        "# @title\n",
        "rudof.reset_all()"
      ],
      "metadata": {
        "id": "ihjNIGutGMUG",
        "cellView": "form"
      },
      "execution_count": null,
      "outputs": []
    },
    {
      "cell_type": "code",
      "source": [
        "# @title\n",
        "!rm -f out.puml out.pnf"
      ],
      "metadata": {
        "id": "fYMYBP9zvP9V",
        "cellView": "form"
      },
      "execution_count": null,
      "outputs": []
    },
    {
      "cell_type": "markdown",
      "source": [
        "Rudof has added support for [RDF 1.2](https://www.w3.org/TR/rdf12-primer). It is possible, for example, to load some RDF 1.2 files and visualize them.\n"
      ],
      "metadata": {
        "id": "XMMU1ERuuXBd"
      }
    },
    {
      "cell_type": "markdown",
      "source": [
        "RDF 1.2 introduces [triple terms](https://www.w3.org/TR/rdf12-primer/#section-triple-terms) which denote statements that can be the object of some triples."
      ],
      "metadata": {
        "id": "gyP41zIRYGtr"
      }
    },
    {
      "cell_type": "code",
      "source": [
        "rudof.read_data_str(\"\"\"\n",
        "prefix :     <http://example.org/>\n",
        "prefix rdfs: <http://www.w3.org/2000/01/rdf-schema#>\n",
        "prefix xsd:  <http://www.w3.org/2001/XMLSchema#>\n",
        "prefix rdf:  <http://www.w3.org/1999/02/22-rdf-syntax-ns#>\n",
        "\n",
        ":timbl rdfs:label \"Tim Berners Lee\" ;\n",
        "       :employer :CERN {| :start \"1984\" ;\n",
        "                          :end   \"1994\" |}\n",
        "                       {| :start \"1980\" ;\n",
        "                          :end   \"1980\" |} ;\n",
        "       :award :PA {| :time \"2002\" ;\n",
        "                     :togetherWith :vint |} .\n",
        ":vint  rdfs:label \"Vinton Cerf\" .\n",
        "\"\"\")\n"
      ],
      "metadata": {
        "id": "-nqLufg4upeV"
      },
      "execution_count": null,
      "outputs": []
    },
    {
      "cell_type": "markdown",
      "source": [
        "## Querying RDF 1.2"
      ],
      "metadata": {
        "id": "JgyXnX15rM-y"
      }
    },
    {
      "cell_type": "code",
      "source": [
        "rudof.read_query_str(\"\"\"\n",
        "prefix :     <http://example.org/>\n",
        "prefix rdfs: <http://www.w3.org/2000/01/rdf-schema#>\n",
        "prefix xsd:  <http://www.w3.org/2001/XMLSchema#>\n",
        "prefix rdf:  <http://www.w3.org/1999/02/22-rdf-syntax-ns#>\n",
        "\n",
        "SELECT DISTINCT ?person ?employer ?start ?end ?timeAward ?togetherWith WHERE {\n",
        "  ?person :employer ?employer ;\n",
        "          :award ?award .\n",
        "  BIND( TRIPLE( ?person, :employer, ?employer ) AS ?triple_employer )\n",
        "  BIND( TRIPLE( ?person, :award, ?award ) AS ?triple_award )\n",
        "  ?reifier1 rdf:reifies ?triple_employer ;\n",
        "           :start ?start ;\n",
        "           :end ?end .\n",
        "  ?reifier2 rdf:reifies ?triple_award ;\n",
        "           :time         ?timeAward ;\n",
        "           :togetherWith ?togetherWith .\n",
        "}\n",
        "\"\"\")"
      ],
      "metadata": {
        "id": "TPAsbJ_yrPPK"
      },
      "execution_count": null,
      "outputs": []
    },
    {
      "cell_type": "code",
      "source": [
        "results = rudof.run_current_query_select()"
      ],
      "metadata": {
        "id": "X1IMhy60r1wR"
      },
      "execution_count": null,
      "outputs": []
    },
    {
      "cell_type": "code",
      "source": [
        "for result in iter(results):\n",
        "    print(result.show())"
      ],
      "metadata": {
        "id": "cC5sBKbqsbvZ"
      },
      "execution_count": null,
      "outputs": []
    },
    {
      "cell_type": "markdown",
      "source": [
        "## Visualizing RDF 1.2 graphs"
      ],
      "metadata": {
        "id": "LUHJXbE8qv5i"
      }
    },
    {
      "cell_type": "markdown",
      "source": [
        "rudof has added preliminary support to visualize RDF 1.2 graphs. One problem with the visualization is how to represent reified triples. In rudof they are represented by a circle with 3 edges (subject, predicate and object). This representation allows to have links to any of them."
      ],
      "metadata": {
        "id": "D0k9DWwmqzbS"
      }
    },
    {
      "cell_type": "code",
      "source": [
        "uml = rudof.data2plantuml_file('out.puml')"
      ],
      "metadata": {
        "id": "o96nBbWgvL-l"
      },
      "execution_count": null,
      "outputs": []
    },
    {
      "cell_type": "markdown",
      "source": [
        "Convert the `puml` to an image."
      ],
      "metadata": {
        "id": "jX9NeZAkafOq"
      }
    },
    {
      "cell_type": "code",
      "source": [],
      "metadata": {
        "id": "zWmIFbFYwO_G"
      },
      "execution_count": null,
      "outputs": []
    },
    {
      "cell_type": "code",
      "source": [
        "!python -m plantuml out.puml"
      ],
      "metadata": {
        "id": "znszHWGuvlvF"
      },
      "execution_count": null,
      "outputs": []
    },
    {
      "cell_type": "code",
      "source": [
        "Image(f\"out.png\")"
      ],
      "metadata": {
        "id": "PcTrKaabwZvW"
      },
      "execution_count": null,
      "outputs": []
    },
    {
      "cell_type": "markdown",
      "source": [
        "In [RDF 1.2 turtle syntax](https://www.w3.org/TR/rdf12-turtle/), there are several possibilities to define triple terms.\n",
        "\n"
      ],
      "metadata": {
        "id": "erXpY9MSbPNT"
      }
    },
    {
      "cell_type": "markdown",
      "source": [
        "### Declaring triple terms directly"
      ],
      "metadata": {
        "id": "2nbEG7h0b1N6"
      }
    },
    {
      "cell_type": "code",
      "source": [
        "!rm -f out.puml out.pnf\n",
        "rudof.reset_all()"
      ],
      "metadata": {
        "id": "SKn-6FBLcAOi"
      },
      "execution_count": null,
      "outputs": []
    },
    {
      "cell_type": "markdown",
      "source": [
        "A triple term can be declared enclosing it between `<<(` and `)>>`. For example:"
      ],
      "metadata": {
        "id": "KRVXarFNb3R2"
      }
    },
    {
      "cell_type": "code",
      "source": [
        "rudof.read_data_str(\"\"\"\n",
        "PREFIX :    <http://www.example.org/>\n",
        "PREFIX rdf: <http://www.w3.org/1999/02/22-rdf-syntax-ns#>\n",
        "\n",
        "_:e38  :familyName                     \"Smith\" .\n",
        "_:anno rdf:reifies <<( _:e38 :jobTitle \"Designer\" )>> .\n",
        "_:anno :accordingTo                     :eric .\n",
        " \"\"\")"
      ],
      "metadata": {
        "id": "YFNlU537b0yb"
      },
      "execution_count": null,
      "outputs": []
    },
    {
      "cell_type": "code",
      "source": [
        "uml = rudof.data2plantuml_file('out.puml')"
      ],
      "metadata": {
        "id": "a-LI3oaOcTJC"
      },
      "execution_count": null,
      "outputs": []
    },
    {
      "cell_type": "code",
      "source": [
        "!python -m plantuml out.puml"
      ],
      "metadata": {
        "id": "ZhkGPQyscYwz"
      },
      "execution_count": null,
      "outputs": []
    },
    {
      "cell_type": "code",
      "source": [
        "Image(f\"out.png\")"
      ],
      "metadata": {
        "id": "01xaro82cciN"
      },
      "execution_count": null,
      "outputs": []
    },
    {
      "cell_type": "markdown",
      "source": [
        "### Reifying triples"
      ],
      "metadata": {
        "id": "iWMQVoWgchXL"
      }
    },
    {
      "cell_type": "code",
      "source": [
        "!rm -f out.puml out.pnf\n",
        "rudof.reset_all()"
      ],
      "metadata": {
        "id": "rW4pPtohdQwc"
      },
      "execution_count": null,
      "outputs": []
    },
    {
      "cell_type": "markdown",
      "source": [
        "Enclosing a triple between `<<` and `>>`, is a syntactic sugar that declares that there is a reifier whose object is that triple and that can be used to add more declarations about that reifier.\n",
        "\n",
        "For example:"
      ],
      "metadata": {
        "id": "OIAm5jIRck0C"
      }
    },
    {
      "cell_type": "code",
      "source": [
        "rudof.read_data_str(\"\"\"\n",
        " PREFIX :    <http://www.example.org/>\n",
        "PREFIX rdf: <http://www.w3.org/1999/02/22-rdf-syntax-ns#>\n",
        "\n",
        ":employee38 :familyName \"Smith\" .\n",
        "<< :employee38 :jobTitle \"Assistant Designer\" >> :accordingTo :employee22 .\n",
        " \"\"\")"
      ],
      "metadata": {
        "id": "eVatupSpdJRN"
      },
      "execution_count": null,
      "outputs": []
    },
    {
      "cell_type": "code",
      "source": [
        "uml = rudof.data2plantuml_file('out.puml')\n",
        "!python -m plantuml out.puml\n",
        "Image(f\"out.png\")"
      ],
      "metadata": {
        "id": "fAR310j1dZiq"
      },
      "execution_count": null,
      "outputs": []
    },
    {
      "cell_type": "markdown",
      "source": [
        "### Annotation syntax"
      ],
      "metadata": {
        "id": "r_SUp610dn1P"
      }
    },
    {
      "cell_type": "code",
      "source": [
        "# Clean the workspace\n",
        "!rm -f out.puml out.pnf\n",
        "rudof.reset_all()"
      ],
      "metadata": {
        "id": "kCgn0u2CeApq"
      },
      "execution_count": null,
      "outputs": []
    },
    {
      "cell_type": "markdown",
      "source": [
        "It is also possible to use the annotation syntax where a statement can be annotated with `{|` and `|}` as follows:\n"
      ],
      "metadata": {
        "id": "teWMPNSQdsPr"
      }
    },
    {
      "cell_type": "code",
      "source": [
        "rudof.read_data_str(\"\"\"\n",
        " PREFIX : <http://example.com/>\n",
        " PREFIX xsd: <http://www.w3.org/2001/XMLSchema#>\n",
        " :alice :name \"Alice\" ~ :t {|\n",
        "   :statedBy :bob ;\n",
        "   :recorded \"2021-07-07\"^^xsd:date\n",
        " |} .\n",
        " \"\"\")"
      ],
      "metadata": {
        "id": "Trman2A3d9Py"
      },
      "execution_count": null,
      "outputs": []
    },
    {
      "cell_type": "code",
      "source": [
        "uml = rudof.data2plantuml_file('out.puml')\n",
        "!python -m plantuml out.puml\n",
        "Image(f\"out.png\")"
      ],
      "metadata": {
        "id": "hnIFvo4PeUSz"
      },
      "execution_count": null,
      "outputs": []
    },
    {
      "cell_type": "markdown",
      "source": [
        "Notice that in the visualization, we differentiate between a statement that is part of the graph which is represented by a box from a statement that is not part of the graph, which is represented by a cloud symbol."
      ],
      "metadata": {
        "id": "VySOS5cOemOr"
      }
    }
  ]
}