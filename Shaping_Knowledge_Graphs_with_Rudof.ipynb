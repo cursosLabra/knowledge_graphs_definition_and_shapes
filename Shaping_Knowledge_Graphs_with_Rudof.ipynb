{
  "nbformat": 4,
  "nbformat_minor": 0,
  "metadata": {
    "colab": {
      "provenance": [],
      "toc_visible": true,
      "include_colab_link": true
    },
    "kernelspec": {
      "name": "python3",
      "display_name": "Python 3"
    },
    "language_info": {
      "name": "python"
    }
  },
  "cells": [
    {
      "cell_type": "markdown",
      "metadata": {
        "id": "view-in-github",
        "colab_type": "text"
      },
      "source": [
        "<a href=\"https://colab.research.google.com/github/cursosLabra/knowledge_graphs_definition_and_shapes/blob/main/Shaping_Knowledge_Graphs_with_Rudof.ipynb\" target=\"_parent\"><img src=\"https://colab.research.google.com/assets/colab-badge.svg\" alt=\"Open In Colab\"/></a>"
      ]
    },
    {
      "cell_type": "markdown",
      "source": [
        "# Knowledge Graphs: Deinition and description"
      ],
      "metadata": {
        "id": "sUm7kokski_K"
      }
    },
    {
      "cell_type": "markdown",
      "source": [
        "## Introduction"
      ],
      "metadata": {
        "id": "f5hA3uPNYJL9"
      }
    },
    {
      "cell_type": "markdown",
      "source": [
        "This document contains some examples for a talk about Knowledge Graphs, definition and description. The talk has been given by [Jose Emilio Labra Gayo](https://labra.weso.es/)."
      ],
      "metadata": {
        "id": "7BCNib7NYNxs"
      }
    },
    {
      "cell_type": "markdown",
      "source": [
        "## Preliminaries: rudof library"
      ],
      "metadata": {
        "id": "HVRdoR9HYqPE"
      }
    },
    {
      "cell_type": "markdown",
      "source": [
        "The executable book is developed using [rudof](https://rudof-project.github.io/), an library that supports RDF data and RDF data shapes.\n",
        "\n",
        "`rudof` is available as a [command line tool](https://rudof-project.github.io/rudof/overview.html) for which we provide [binaries in Windows, Linux and Mac](https://github.com/rudof-project/rudof/releases).\n",
        "\n",
        "The library also contains Python bindings which are [publised in pypi](https://pypi.org/project/pyrudof/).\n",
        "\n",
        "The documentation for the Python bindings is available [here](https://pyrudof.readthedocs.io/en/latest/).\n",
        "\n",
        "In this Jupyter book we will be using Pyrudof, i.e. rudof with the Python bindings."
      ],
      "metadata": {
        "id": "FlaljkGCkn_Q"
      }
    },
    {
      "cell_type": "markdown",
      "source": [
        "### Install and initialize pyrudof"
      ],
      "metadata": {
        "id": "whZHWrGG6Y8O"
      }
    },
    {
      "cell_type": "markdown",
      "source": [
        "The library is available as `pyrudof`."
      ],
      "metadata": {
        "id": "YpF48mZrjqwo"
      }
    },
    {
      "cell_type": "code",
      "source": [
        "!pip install pyrudof"
      ],
      "metadata": {
        "colab": {
          "base_uri": "https://localhost:8080/"
        },
        "id": "voGWk2uO6gcP",
        "outputId": "9d26a6da-35f3-452d-a451-9c28d415e444"
      },
      "execution_count": 2,
      "outputs": [
        {
          "output_type": "stream",
          "name": "stdout",
          "text": [
            "Collecting pyrudof\n",
            "  Downloading pyrudof-0.1.108-cp37-abi3-manylinux_2_17_x86_64.manylinux2014_x86_64.whl.metadata (1.8 kB)\n",
            "Downloading pyrudof-0.1.108-cp37-abi3-manylinux_2_17_x86_64.manylinux2014_x86_64.whl (9.5 MB)\n",
            "\u001b[2K   \u001b[90m━━━━━━━━━━━━━━━━━━━━━━━━━━━━━━━━━━━━━━━━\u001b[0m \u001b[32m9.5/9.5 MB\u001b[0m \u001b[31m77.2 MB/s\u001b[0m eta \u001b[36m0:00:00\u001b[0m\n",
            "\u001b[?25hInstalling collected packages: pyrudof\n",
            "Successfully installed pyrudof-0.1.108\n"
          ]
        }
      ]
    },
    {
      "cell_type": "markdown",
      "source": [
        "The main entry point if a class called `Rudof` through which most of the functionality is provided."
      ],
      "metadata": {
        "id": "FzsA78qu-xXP"
      }
    },
    {
      "cell_type": "code",
      "execution_count": 3,
      "metadata": {
        "id": "I3jvDAPBJ3OQ"
      },
      "outputs": [],
      "source": [
        "from pyrudof import Rudof, RudofConfig"
      ]
    },
    {
      "cell_type": "markdown",
      "source": [
        "In order to initialize that class, it is possible to pass a RudofConfig instance which contains configuration parameters for customization."
      ],
      "metadata": {
        "id": "0Io7V7y9_G_P"
      }
    },
    {
      "cell_type": "code",
      "source": [
        "rudof = Rudof(RudofConfig())"
      ],
      "metadata": {
        "id": "OAV_KSrH6qn-"
      },
      "execution_count": 4,
      "outputs": []
    },
    {
      "cell_type": "markdown",
      "source": [
        "## RDF data"
      ],
      "metadata": {
        "id": "rCOlUq9H_5b2"
      }
    },
    {
      "cell_type": "markdown",
      "source": [
        "[RDF](https://www.w3.org/TR/rdf11-concepts/) is a W3C recommendation. There is currently a W3C working group which is defining [RDF 1.2](https://www.w3.org/TR/rdf12-concepts/).\n",
        "\n",
        "We will define a small RDF model with information about Tim Berners-lee as:"
      ],
      "metadata": {
        "id": "5dOaqZtSZImE"
      }
    },
    {
      "cell_type": "code",
      "source": [
        "rudof.read_data_str(\"\"\"\n",
        "prefix : <http://example.org/>\n",
        "prefix xsd: <http://www.w3.org/2001/XMLSchema#>\n",
        "\n",
        "\n",
        "\"\"\")"
      ],
      "metadata": {
        "id": "WH2rBJ5b_8go"
      },
      "execution_count": 5,
      "outputs": []
    },
    {
      "cell_type": "markdown",
      "source": [
        "The RDF data can easily be merged with other data."
      ],
      "metadata": {
        "id": "i-XbhuVvAwE3"
      }
    },
    {
      "cell_type": "code",
      "source": [
        "rudof.read_data_str(\"\"\"\n",
        "prefix : <http://example.org/>\n",
        "prefix xsd: <http://www.w3.org/2001/XMLSchema#>\n",
        "\n",
        ":u a :Person     ;\n",
        "   :name \"Dave\" ;\n",
        "   :knows :y     .\n",
        ":v a :Person     ;\n",
        "   :name \"Emily\" ;\n",
        "   :knows _:1    .\n",
        "_:1 a :Person     ;\n",
        "   :knows :x     .\n",
        "\"\"\")"
      ],
      "metadata": {
        "id": "WMFRb2QqA0xA"
      },
      "execution_count": 6,
      "outputs": []
    },
    {
      "cell_type": "markdown",
      "source": [
        "And the data can be serialized to different formats."
      ],
      "metadata": {
        "id": "wP64tMo5BESa"
      }
    },
    {
      "cell_type": "code",
      "source": [
        "from pyrudof import RDFFormat\n",
        "str = rudof.serialize_data(format=RDFFormat.NTriples)\n",
        "print(str)"
      ],
      "metadata": {
        "colab": {
          "base_uri": "https://localhost:8080/"
        },
        "id": "yAUCSKN8BI3P",
        "outputId": "d80bbbbe-d2d8-4c3a-8ca1-6bc099fd48ea"
      },
      "execution_count": 7,
      "outputs": [
        {
          "output_type": "stream",
          "name": "stdout",
          "text": [
            "<http://example.org/x> <http://example.org/name> \"Alice\" .\n",
            "<http://example.org/x> <http://www.w3.org/1999/02/22-rdf-syntax-ns#type> <http://example.org/Person> .\n",
            "<http://example.org/x> <http://example.org/knows> <http://example.org/y> .\n",
            "<http://example.org/v> <http://example.org/name> \"Emily\" .\n",
            "<http://example.org/v> <http://www.w3.org/1999/02/22-rdf-syntax-ns#type> <http://example.org/Person> .\n",
            "<http://example.org/v> <http://example.org/knows> _:1 .\n",
            "<http://example.org/u> <http://example.org/name> \"Dave\" .\n",
            "<http://example.org/u> <http://www.w3.org/1999/02/22-rdf-syntax-ns#type> <http://example.org/Person> .\n",
            "<http://example.org/u> <http://example.org/knows> <http://example.org/y> .\n",
            "<http://example.org/y> <http://example.org/name> \"Bob\" .\n",
            "<http://example.org/y> <http://www.w3.org/1999/02/22-rdf-syntax-ns#type> <http://example.org/Person> .\n",
            "<http://example.org/y> <http://example.org/knows> <http://example.org/z> .\n",
            "<http://example.org/z> <http://www.w3.org/1999/02/22-rdf-syntax-ns#type> <http://example.org/Person> .\n",
            "<http://example.org/z> <http://example.org/knows> <http://example.org/x> .\n",
            "_:1 <http://www.w3.org/1999/02/22-rdf-syntax-ns#type> <http://example.org/Person> .\n",
            "_:1 <http://example.org/knows> <http://example.org/x> .\n",
            "\n"
          ]
        }
      ]
    },
    {
      "cell_type": "markdown",
      "source": [
        "## Running SPARQL queries"
      ],
      "metadata": {
        "id": "5aaV_e6KBpk_"
      }
    },
    {
      "cell_type": "code",
      "source": [
        "from pyrudof import Rudof, RudofConfig, QuerySolutions\n",
        "rudof = Rudof(RudofConfig())\n",
        "rudof.reset_all()"
      ],
      "metadata": {
        "id": "8SmLIHQ-Cwn-"
      },
      "execution_count": 8,
      "outputs": []
    },
    {
      "cell_type": "code",
      "source": [
        "rdf = \"\"\"prefix : <http://example.org/>\n",
        ":alice a :Person ;\n",
        " :name \"Alice\"   ;\n",
        " :knows :bob     .\n",
        ":bob a :Person   ;\n",
        " :name \"Robert\"  .\n",
        "\"\"\"\n",
        "rudof.read_data_str(rdf)"
      ],
      "metadata": {
        "id": "4gxr_0bgCf2u"
      },
      "execution_count": 9,
      "outputs": []
    },
    {
      "cell_type": "code",
      "source": [
        "query = \"\"\"prefix : <http://example.org/>\n",
        "select * where {\n",
        "  ?x a :Person\n",
        "}\n",
        "\"\"\"\n",
        "\n",
        "results = rudof.run_query_str(query)\n"
      ],
      "metadata": {
        "id": "ags_QBb4DVaC"
      },
      "execution_count": 10,
      "outputs": []
    },
    {
      "cell_type": "markdown",
      "source": [
        "Show the results:"
      ],
      "metadata": {
        "id": "w4x5cYh-CBnP"
      }
    },
    {
      "cell_type": "code",
      "source": [
        "for result in iter(results):\n",
        "    print(result.show())"
      ],
      "metadata": {
        "id": "t8Bp-fcSCDsW",
        "outputId": "9d434b09-c351-43c8-d110-fdd18c537555",
        "colab": {
          "base_uri": "https://localhost:8080/"
        }
      },
      "execution_count": 11,
      "outputs": [
        {
          "output_type": "stream",
          "name": "stdout",
          "text": [
            "?x -> <http://example.org/bob>\n",
            "\n",
            "?x -> <http://example.org/alice>\n",
            "\n"
          ]
        }
      ]
    },
    {
      "cell_type": "markdown",
      "source": [
        "## Working with SPARQL endpoints"
      ],
      "metadata": {
        "id": "SHBaH28rVE69"
      }
    },
    {
      "cell_type": "markdown",
      "source": [
        "It is also possible to work with SPARQL endpoints, which can also be merged with the current RDF data"
      ],
      "metadata": {
        "id": "QBe9VrfeVMpl"
      }
    },
    {
      "cell_type": "code",
      "source": [
        "rudof.add_endpoint(\"https://query.wikidata.org/sparql\")"
      ],
      "metadata": {
        "id": "9GTAICG8VUZ8"
      },
      "execution_count": 12,
      "outputs": []
    },
    {
      "cell_type": "code",
      "source": [
        "wikidata_query = \"\"\"\n",
        "prefix rdfs: <http://www.w3.org/2000/01/rdf-schema#>\n",
        "prefix wd: <http://www.wikidata.org/entity/>\n",
        "prefix wdt: <http://www.wikidata.org/prop/direct/>\n",
        "\n",
        "\n",
        "select ?person ?personLabel ?birthPlace ?birthPlaceLabel where {\n",
        "  ?person wdt:P31 wd:Q5 ;\n",
        "     wdt:P19 ?birthPlace ;\n",
        "     rdfs:label ?personLabel .\n",
        "  ?birthPlace rdfs:label ?birthPlaceLabel .\n",
        "  FILTER(lang(?personLabel) = \"es\" && lang(?birthPlaceLabel) = \"es\")\n",
        "} LIMIT 5\n",
        "\"\"\"\n"
      ],
      "metadata": {
        "id": "fpQ5dF-wVMEu"
      },
      "execution_count": 13,
      "outputs": []
    },
    {
      "cell_type": "code",
      "source": [
        "results = rudof.run_query_str(wikidata_query)"
      ],
      "metadata": {
        "id": "Swf97nJwW91l"
      },
      "execution_count": 15,
      "outputs": []
    },
    {
      "cell_type": "code",
      "source": [
        "for result in iter(results):\n",
        "    print(result.show())"
      ],
      "metadata": {
        "colab": {
          "base_uri": "https://localhost:8080/"
        },
        "id": "bgwRpHcFXDQd",
        "outputId": "12072c1e-5fe5-4922-cf62-ecf26ab1b29e"
      },
      "execution_count": 16,
      "outputs": [
        {
          "output_type": "stream",
          "name": "stdout",
          "text": [
            "?person -> <http://www.wikidata.org/entity/Q5047631>\n",
            "?personLabel -> \"Cary Kaplan\"@es\n",
            "?birthPlace -> <http://www.wikidata.org/entity/Q16>\n",
            "?birthPlaceLabel -> \"Canadá\"@es\n",
            "\n",
            "?person -> <http://www.wikidata.org/entity/Q5051291>\n",
            "?personLabel -> \"Catalina Yue\"@es\n",
            "?birthPlace -> <http://www.wikidata.org/entity/Q16>\n",
            "?birthPlaceLabel -> \"Canadá\"@es\n",
            "\n",
            "?person -> <http://www.wikidata.org/entity/Q5080715>\n",
            "?personLabel -> \"David Reale\"@es\n",
            "?birthPlace -> <http://www.wikidata.org/entity/Q16>\n",
            "?birthPlaceLabel -> \"Canadá\"@es\n",
            "\n",
            "?person -> <http://www.wikidata.org/entity/Q5082300>\n",
            "?personLabel -> \"Charles S. Thompson\"@es\n",
            "?birthPlace -> <http://www.wikidata.org/entity/Q16>\n",
            "?birthPlaceLabel -> \"Canadá\"@es\n",
            "\n",
            "?person -> <http://www.wikidata.org/entity/Q5093545>\n",
            "?personLabel -> \"Chester Elton\"@es\n",
            "?birthPlace -> <http://www.wikidata.org/entity/Q16>\n",
            "?birthPlaceLabel -> \"Canadá\"@es\n",
            "\n"
          ]
        }
      ]
    },
    {
      "cell_type": "markdown",
      "source": [
        "## Validate using SHACL"
      ],
      "metadata": {
        "id": "RdCph-Et7PwG"
      }
    },
    {
      "cell_type": "markdown",
      "source": [
        "First we reset the status of rudof using `rudof.reset_all()`"
      ],
      "metadata": {
        "id": "r_P2X0EhXZVV"
      }
    },
    {
      "cell_type": "code",
      "source": [
        "# @title\n",
        "rudof.reset_all()"
      ],
      "metadata": {
        "id": "3ridiHLC_eS-"
      },
      "execution_count": 17,
      "outputs": []
    },
    {
      "cell_type": "markdown",
      "source": [
        "Let's read some RDF data."
      ],
      "metadata": {
        "id": "jr6gkZuQ_WaO"
      }
    },
    {
      "cell_type": "code",
      "source": [
        "rudof.read_data_str(\"\"\"\n",
        "prefix : <http://example.org/>\n",
        "prefix sh:     <http://www.w3.org/ns/shacl#>\n",
        "prefix xsd:    <http://www.w3.org/2001/XMLSchema#>\n",
        "\n",
        ":Person a sh:NodeShape;\n",
        "   sh:targetNode :ok, :ko ;\n",
        "   sh:property [\n",
        "    sh:path     :name ;\n",
        "    sh:minCount 1;\n",
        "    sh:maxCount 1;\n",
        "    sh:datatype xsd:string ;\n",
        "  ] .\n",
        "\"\"\")"
      ],
      "metadata": {
        "id": "Mql8MdI06vj3"
      },
      "execution_count": 12,
      "outputs": []
    },
    {
      "cell_type": "code",
      "source": [
        "rudof.read_data_str(\"\"\"\n",
        "prefix : <http://example.org/>\n",
        "\n",
        ":ok :name \"alice\" .\n",
        ":ko :name 1 .\n",
        "\"\"\")"
      ],
      "metadata": {
        "id": "jZzlVjXp60H2"
      },
      "execution_count": 13,
      "outputs": []
    },
    {
      "cell_type": "code",
      "source": [
        "result = rudof.validate_shacl()"
      ],
      "metadata": {
        "id": "1fidxZsb643H"
      },
      "execution_count": 14,
      "outputs": []
    },
    {
      "cell_type": "code",
      "source": [
        "print(result.show())"
      ],
      "metadata": {
        "id": "L_gWERG86665",
        "colab": {
          "base_uri": "https://localhost:8080/"
        },
        "outputId": "092dbe00-9c2a-4f2f-f294-fc905e2d5eab"
      },
      "execution_count": 15,
      "outputs": [
        {
          "output_type": "stream",
          "name": "stdout",
          "text": [
            "1 errors found\n",
            "sh:Violation node: :ko sh:datatype\n",
            "Datatype constraint not satisfied. Expected datatype: http://www.w3.org/2001/XMLSchema#string path: :name, source shape: _:e02f312becaae7a593fa9ed90265af4c, value: 1,\n",
            "\n"
          ]
        }
      ]
    },
    {
      "cell_type": "markdown",
      "source": [
        "The next command is just to clean the RDF data for the next examples."
      ],
      "metadata": {
        "id": "okXYzo-XmrPG"
      }
    },
    {
      "cell_type": "code",
      "source": [
        "rudof.reset_all()"
      ],
      "metadata": {
        "id": "9ZceJxM17yCF"
      },
      "execution_count": 16,
      "outputs": []
    },
    {
      "cell_type": "markdown",
      "source": [
        "## Validate using ShEx"
      ],
      "metadata": {
        "id": "JUgsyHtW7bA5"
      }
    },
    {
      "cell_type": "code",
      "source": [
        "rudof.read_shex_str(\"\"\"\n",
        "prefix : <http://example.org/>\n",
        "prefix xsd:    <http://www.w3.org/2001/XMLSchema#>\n",
        "\n",
        ":Person {\n",
        " :name xsd:string\n",
        "}\n",
        "\"\"\")\n"
      ],
      "metadata": {
        "id": "CwDQcbAq7XJe"
      },
      "execution_count": 17,
      "outputs": []
    },
    {
      "cell_type": "code",
      "source": [
        "rudof.read_data_str(\"\"\"\n",
        "prefix : <http://example.org/>\n",
        "\n",
        ":ok :name \"alice\" .\n",
        ":ko :name 1 .\n",
        "\"\"\")"
      ],
      "metadata": {
        "id": "yo97eI09nFOm"
      },
      "execution_count": 18,
      "outputs": []
    },
    {
      "cell_type": "code",
      "source": [
        "rudof.read_shapemap_str(\":ok@:Person, :ko@:Person\")"
      ],
      "metadata": {
        "id": "_EFY-RpNnHwh"
      },
      "execution_count": 19,
      "outputs": []
    },
    {
      "cell_type": "markdown",
      "source": [
        "Once the ShEx schema and the Shapemap have been added to `rudof`, it is possible to validate the current RDF data with the `validate_shex()` method:"
      ],
      "metadata": {
        "id": "0VA7Nyh3xa36"
      }
    },
    {
      "cell_type": "code",
      "source": [
        "result = rudof.validate_shex()"
      ],
      "metadata": {
        "id": "RtJYkJ6T7tm1"
      },
      "execution_count": 20,
      "outputs": []
    },
    {
      "cell_type": "markdown",
      "source": [
        "`validate_shex()` returns a `ResultShapeMap` object which contains a `show()` method to show the results of the validation:"
      ],
      "metadata": {
        "id": "-kqBLihnxoZz"
      }
    },
    {
      "cell_type": "code",
      "source": [
        "print(result.show())"
      ],
      "metadata": {
        "id": "5-gu1z1NnUkO",
        "colab": {
          "base_uri": "https://localhost:8080/"
        },
        "outputId": "a4724d00-83ca-475e-d6b2-65b748864b47"
      },
      "execution_count": 21,
      "outputs": [
        {
          "output_type": "stream",
          "name": "stdout",
          "text": [
            ":ko@<http://example.org/Person> -> Fail, reason: Error Datatype error: Datatype expected http://www.w3.org/2001/XMLSchema#string but found Integer literal 1\n",
            ":ok@<http://example.org/Person> -> OK, reason: Reason #Shape passed. Node http://example.org/ok, shape: Shape  Preds: http://example.org/name\n",
            "RBE: C0{1, 1}\n",
            "Keys:\n",
            " http://example.org/name -> [ C0 ]\n",
            "Components:\n",
            " C0 -> http://example.org/name datatype(http://www.w3.org/2001/XMLSchema#string)\n",
            "\n",
            ": 0\n",
            "\n"
          ]
        }
      ]
    },
    {
      "cell_type": "markdown",
      "source": [
        "We reset the status of the `ShEx` schema, the `Shapemap` and the current `RDF data` for the next section."
      ],
      "metadata": {
        "id": "jiEga6RWx8sf"
      }
    },
    {
      "cell_type": "code",
      "source": [
        "rudof.reset_all()"
      ],
      "metadata": {
        "id": "6YD7UcNXnjkN"
      },
      "execution_count": 22,
      "outputs": []
    },
    {
      "cell_type": "markdown",
      "source": [
        "## Converting ShEx to UML"
      ],
      "metadata": {
        "id": "_7iBx5Ocn1Fc"
      }
    },
    {
      "cell_type": "markdown",
      "source": [
        "`rudof` can be used to convert ShEx to diagrams in UML-like style. The converter generates a [PlantUML](https://plantuml.com/) string which can be written to a file and converted to an image using the PlantUML tool."
      ],
      "metadata": {
        "id": "2KRvu2HXJ3Bi"
      }
    },
    {
      "cell_type": "code",
      "source": [
        "from pyrudof import UmlGenerationMode"
      ],
      "metadata": {
        "id": "cO0QQJJSlm1j"
      },
      "execution_count": 23,
      "outputs": []
    },
    {
      "cell_type": "code",
      "source": [
        "rudof.read_shex_str(\"\"\"\n",
        "prefix : <http://example.org/>\n",
        "prefix xsd:    <http://www.w3.org/2001/XMLSchema#>\n",
        "\n",
        ":Proteine {\n",
        " :name xsd:string  ;\n",
        " :has @:Weight * ;\n",
        " :isIn @:Mitocondria\n",
        "}\n",
        "\n",
        ":Mitocondria {\n",
        "  :name xsd:string     ;\n",
        "}\n",
        ":Weight {\n",
        "  :value xsd:float ;\n",
        "  :units xsd:string\n",
        "}\n",
        "\"\"\")"
      ],
      "metadata": {
        "id": "cZThqbvXn4y1"
      },
      "execution_count": 24,
      "outputs": []
    },
    {
      "cell_type": "code",
      "source": [
        "plant_uml = rudof.shex2plantuml_file(UmlGenerationMode(), 'out.puml')"
      ],
      "metadata": {
        "id": "TgF9X8BoHyft"
      },
      "execution_count": 25,
      "outputs": []
    },
    {
      "cell_type": "markdown",
      "source": [
        "Now we install the PlantUML tools necessary to process the generated `plant_uml`"
      ],
      "metadata": {
        "id": "BkET25UlKblP"
      }
    },
    {
      "cell_type": "code",
      "source": [
        "! pip install plantuml"
      ],
      "metadata": {
        "colab": {
          "base_uri": "https://localhost:8080/"
        },
        "id": "WK_yRDiXIS9x",
        "outputId": "acdbadb1-dd50-4a22-f1d2-2fe4f3a89d9b"
      },
      "execution_count": 26,
      "outputs": [
        {
          "output_type": "stream",
          "name": "stdout",
          "text": [
            "Collecting plantuml\n",
            "  Downloading plantuml-0.3.0-py3-none-any.whl.metadata (2.5 kB)\n",
            "Requirement already satisfied: httplib2 in /usr/local/lib/python3.12/dist-packages (from plantuml) (0.31.0)\n",
            "Requirement already satisfied: pyparsing<4,>=3.0.4 in /usr/local/lib/python3.12/dist-packages (from httplib2->plantuml) (3.2.4)\n",
            "Downloading plantuml-0.3.0-py3-none-any.whl (5.8 kB)\n",
            "Installing collected packages: plantuml\n",
            "Successfully installed plantuml-0.3.0\n"
          ]
        }
      ]
    },
    {
      "cell_type": "code",
      "source": [
        "! pip install ipython"
      ],
      "metadata": {
        "id": "Uztbqe6bJGXj",
        "colab": {
          "base_uri": "https://localhost:8080/"
        },
        "outputId": "c8a984d9-f3f5-4990-8d43-40cbd31693d9"
      },
      "execution_count": 27,
      "outputs": [
        {
          "output_type": "stream",
          "name": "stdout",
          "text": [
            "Requirement already satisfied: ipython in /usr/local/lib/python3.12/dist-packages (7.34.0)\n",
            "Requirement already satisfied: setuptools>=18.5 in /usr/local/lib/python3.12/dist-packages (from ipython) (75.2.0)\n",
            "Collecting jedi>=0.16 (from ipython)\n",
            "  Downloading jedi-0.19.2-py2.py3-none-any.whl.metadata (22 kB)\n",
            "Requirement already satisfied: decorator in /usr/local/lib/python3.12/dist-packages (from ipython) (4.4.2)\n",
            "Requirement already satisfied: pickleshare in /usr/local/lib/python3.12/dist-packages (from ipython) (0.7.5)\n",
            "Requirement already satisfied: traitlets>=4.2 in /usr/local/lib/python3.12/dist-packages (from ipython) (5.7.1)\n",
            "Requirement already satisfied: prompt-toolkit!=3.0.0,!=3.0.1,<3.1.0,>=2.0.0 in /usr/local/lib/python3.12/dist-packages (from ipython) (3.0.52)\n",
            "Requirement already satisfied: pygments in /usr/local/lib/python3.12/dist-packages (from ipython) (2.19.2)\n",
            "Requirement already satisfied: backcall in /usr/local/lib/python3.12/dist-packages (from ipython) (0.2.0)\n",
            "Requirement already satisfied: matplotlib-inline in /usr/local/lib/python3.12/dist-packages (from ipython) (0.1.7)\n",
            "Requirement already satisfied: pexpect>4.3 in /usr/local/lib/python3.12/dist-packages (from ipython) (4.9.0)\n",
            "Requirement already satisfied: parso<0.9.0,>=0.8.4 in /usr/local/lib/python3.12/dist-packages (from jedi>=0.16->ipython) (0.8.5)\n",
            "Requirement already satisfied: ptyprocess>=0.5 in /usr/local/lib/python3.12/dist-packages (from pexpect>4.3->ipython) (0.7.0)\n",
            "Requirement already satisfied: wcwidth in /usr/local/lib/python3.12/dist-packages (from prompt-toolkit!=3.0.0,!=3.0.1,<3.1.0,>=2.0.0->ipython) (0.2.13)\n",
            "Downloading jedi-0.19.2-py2.py3-none-any.whl (1.6 MB)\n",
            "\u001b[2K   \u001b[90m━━━━━━━━━━━━━━━━━━━━━━━━━━━━━━━━━━━━━━━━\u001b[0m \u001b[32m1.6/1.6 MB\u001b[0m \u001b[31m19.1 MB/s\u001b[0m eta \u001b[36m0:00:00\u001b[0m\n",
            "\u001b[?25hInstalling collected packages: jedi\n",
            "Successfully installed jedi-0.19.2\n"
          ]
        }
      ]
    },
    {
      "cell_type": "code",
      "source": [
        "!python -m plantuml out.puml"
      ],
      "metadata": {
        "id": "VTN0x4H-I4Mo",
        "colab": {
          "base_uri": "https://localhost:8080/"
        },
        "outputId": "08389fe2-f221-44bc-dbf0-6c5644050785"
      },
      "execution_count": 28,
      "outputs": [
        {
          "output_type": "stream",
          "name": "stdout",
          "text": [
            "[{'filename': 'out.puml', 'gen_success': True}]\n"
          ]
        }
      ]
    },
    {
      "cell_type": "code",
      "source": [
        "from IPython.display import Image"
      ],
      "metadata": {
        "id": "XrFhCm6yJP3x"
      },
      "execution_count": 29,
      "outputs": []
    },
    {
      "cell_type": "code",
      "source": [
        "Image(f\"out.png\")"
      ],
      "metadata": {
        "id": "e4dRHoIUJabG",
        "colab": {
          "base_uri": "https://localhost:8080/",
          "height": 236
        },
        "outputId": "c64eca6a-9944-4dff-f6e7-fed2f95d6438"
      },
      "execution_count": 30,
      "outputs": [
        {
          "output_type": "execute_result",
          "data": {
            "image/png": "[encoded data removed]",
            "text/plain": [
              "<IPython.core.display.Image object>"
            ]
          },
          "metadata": {},
          "execution_count": 30
        }
      ]
    },
    {
      "cell_type": "code",
      "source": [
        "rudof.reset_all()"
      ],
      "metadata": {
        "id": "ZLuBCHWpFuIR"
      },
      "execution_count": 31,
      "outputs": []
    },
    {
      "cell_type": "markdown",
      "source": [
        "## Converting DCTAP to ShEx"
      ],
      "metadata": {
        "id": "W0j6rPmxJfPY"
      }
    },
    {
      "cell_type": "markdown",
      "source": [
        "Rudof can be used to convert [DCTAP](https://www.dublincore.org/specifications/dctap/) files to ShEx."
      ],
      "metadata": {
        "id": "xFXK6AkjJnmy"
      }
    },
    {
      "cell_type": "markdown",
      "source": [
        "DCTAP can be used to represent shapes using a tabular representation using CSV or an spreadsheet format like XLSX. As an example, the following CSV data:\n"
      ],
      "metadata": {
        "id": "mFtcvAieQP7Q"
      }
    },
    {
      "cell_type": "code",
      "source": [
        "dctap_str = \"\"\"shapeId,propertyId,Mandatory,Repeatable,valueDatatype,valueShape\n",
        "Person,name,true,false,xsd:string,\n",
        ",birthdate,false,false,xsd:date,\n",
        ",worksFor,false,true,,Company\n",
        "Company,name,true,false,xsd:string,\n",
        ",employee,false,true,,Person\n",
        "\"\"\""
      ],
      "metadata": {
        "id": "2E6N1wzZQk23"
      },
      "execution_count": 32,
      "outputs": []
    },
    {
      "cell_type": "code",
      "source": [
        "rudof.read_dctap_str(dctap_str)"
      ],
      "metadata": {
        "id": "k66wE-LPJyvR"
      },
      "execution_count": 33,
      "outputs": []
    },
    {
      "cell_type": "code",
      "source": [
        "dctap = rudof.get_dctap()"
      ],
      "metadata": {
        "id": "1vx602BebWqH"
      },
      "execution_count": 34,
      "outputs": []
    },
    {
      "cell_type": "code",
      "source": [
        "print(dctap)"
      ],
      "metadata": {
        "id": "G-SnI2jfbnpX",
        "colab": {
          "base_uri": "https://localhost:8080/"
        },
        "outputId": "fa140c9d-290a-49c2-d00e-46e24fbb5e01"
      },
      "execution_count": 35,
      "outputs": [
        {
          "output_type": "stream",
          "name": "stdout",
          "text": [
            "Shape(Person)  \n",
            " name xsd:string \n",
            " birthdate xsd:date ?\n",
            " worksFor @Company *\n",
            "Shape(Company)  \n",
            " name xsd:string \n",
            " employee @Person *\n",
            "\n"
          ]
        }
      ]
    },
    {
      "cell_type": "markdown",
      "source": [
        "It is possible to convert the DCTAP obtained to ShEx"
      ],
      "metadata": {
        "id": "utlhcAiYFjdv"
      }
    },
    {
      "cell_type": "code",
      "source": [
        "rudof.dctap2shex()\n"
      ],
      "metadata": {
        "id": "djzyJkAxFhIV"
      },
      "execution_count": 36,
      "outputs": []
    },
    {
      "cell_type": "code",
      "source": [
        "from pyrudof import ShExFormatter"
      ],
      "metadata": {
        "id": "2IwnrHIOFxGM"
      },
      "execution_count": 37,
      "outputs": []
    },
    {
      "cell_type": "code",
      "source": [
        "shex = rudof.get_shex()\n",
        "\n",
        "result = rudof.serialize_shex(shex, ShExFormatter())\n"
      ],
      "metadata": {
        "id": "04gjCw2lFoak"
      },
      "execution_count": 38,
      "outputs": []
    },
    {
      "cell_type": "code",
      "source": [
        "print(result)"
      ],
      "metadata": {
        "id": "KZBeAbztGCSh",
        "colab": {
          "base_uri": "https://localhost:8080/"
        },
        "outputId": "e1752270-d633-4c8a-f8ff-577aad90a097"
      },
      "execution_count": 39,
      "outputs": [
        {
          "output_type": "stream",
          "name": "stdout",
          "text": [
            "prefix sh: <http://www.w3.org/ns/shacl#>\n",
            "prefix : <http://example.org/>\n",
            "prefix xsd: <http://www.w3.org/2001/XMLSchema#>\n",
            "prefix dc: <http://purl.org/dc/elements/1.1/>\n",
            "prefix rdfs: <http://www.w3.org/2000/01/rdf-schema#>\n",
            "prefix rdf: <http://www.w3.org/1999/02/22-rdf-syntax-ns#>\n",
            ":Person { :name xsd:string; :birthdate xsd:date ?; :worksFor @:Company * }\n",
            ":Company { :name xsd:string; :employee @:Person * }\n"
          ]
        }
      ]
    },
    {
      "cell_type": "markdown",
      "source": [
        "## Support for RDF 1.2"
      ],
      "metadata": {
        "id": "yju-jjtPuNhO"
      }
    },
    {
      "cell_type": "markdown",
      "source": [
        "Reset previous state of `rudof` and remnove the temporary file `out.puml` if it exists."
      ],
      "metadata": {
        "id": "pAu8aiVgZ2m7"
      }
    },
    {
      "cell_type": "code",
      "source": [
        "rudof.reset_all()"
      ],
      "metadata": {
        "id": "ihjNIGutGMUG"
      },
      "execution_count": 40,
      "outputs": []
    },
    {
      "cell_type": "code",
      "source": [
        "!rm -f out.puml out.pnf"
      ],
      "metadata": {
        "id": "fYMYBP9zvP9V"
      },
      "execution_count": 41,
      "outputs": []
    },
    {
      "cell_type": "markdown",
      "source": [
        "Rudof has added support for [RDF 1.2](https://www.w3.org/TR/rdf12-primer). It is possible, for example, to load some RDF 1.2 files and visualize them.\n"
      ],
      "metadata": {
        "id": "XMMU1ERuuXBd"
      }
    },
    {
      "cell_type": "markdown",
      "source": [
        "RDF 1.2 introduces [triple terms](https://www.w3.org/TR/rdf12-primer/#section-triple-terms) which denote statements that can be the object of some triples.\n",
        "\n",
        "For example, we can state that `:bob` is interested in `:MonaLisa` since `4th October 1998` using the following code:"
      ],
      "metadata": {
        "id": "gyP41zIRYGtr"
      }
    },
    {
      "cell_type": "code",
      "source": [
        "rudof.read_data_str(\"\"\"\n",
        " prefix : <http://example.org/>\n",
        " prefix rdf: <http://www.w3.org/1999/02/22-rdf-syntax-ns#>\n",
        " prefix xsd: <http://www.w3.org/2001/XMLSchema#>\n",
        "\n",
        " :aliceBelief a :Statement ;\n",
        "    rdf:reifies <<( :bob :knows :dave  )>> ;\n",
        "    :since 2025 ;\n",
        "    :accordingTo :dave  .\n",
        " \"\"\")\n"
      ],
      "metadata": {
        "id": "-nqLufg4upeV"
      },
      "execution_count": 42,
      "outputs": []
    },
    {
      "cell_type": "code",
      "source": [
        "uml = rudof.data2plantuml_file('out.puml')"
      ],
      "metadata": {
        "id": "o96nBbWgvL-l"
      },
      "execution_count": 43,
      "outputs": []
    },
    {
      "cell_type": "markdown",
      "source": [
        "Convert the `puml` to an image."
      ],
      "metadata": {
        "id": "jX9NeZAkafOq"
      }
    },
    {
      "cell_type": "code",
      "source": [],
      "metadata": {
        "id": "zWmIFbFYwO_G"
      },
      "execution_count": 43,
      "outputs": []
    },
    {
      "cell_type": "code",
      "source": [
        "!python -m plantuml out.puml"
      ],
      "metadata": {
        "id": "znszHWGuvlvF",
        "colab": {
          "base_uri": "https://localhost:8080/"
        },
        "outputId": "3e924203-2a5c-46cf-865d-58d8156b8c34"
      },
      "execution_count": 44,
      "outputs": [
        {
          "output_type": "stream",
          "name": "stdout",
          "text": [
            "[{'filename': 'out.puml', 'gen_success': True}]\n"
          ]
        }
      ]
    },
    {
      "cell_type": "code",
      "source": [
        "Image(f\"out.png\")"
      ],
      "metadata": {
        "id": "PcTrKaabwZvW",
        "colab": {
          "base_uri": "https://localhost:8080/",
          "height": 291
        },
        "outputId": "2aa59844-c46e-433a-8b67-1d7678edc923"
      },
      "execution_count": 45,
      "outputs": [
        {
          "output_type": "execute_result",
          "data": {
            "image/png": "[encoded data removed]",
            "text/plain": [
              "<IPython.core.display.Image object>"
            ]
          },
          "metadata": {},
          "execution_count": 45
        }
      ]
    },
    {
      "cell_type": "markdown",
      "source": [
        "In [RDF 1.2 turtle syntax](https://www.w3.org/TR/rdf12-turtle/), there are several possibilities to define triple terms.\n",
        "\n"
      ],
      "metadata": {
        "id": "erXpY9MSbPNT"
      }
    },
    {
      "cell_type": "markdown",
      "source": [
        "### Declaring triple terms directly"
      ],
      "metadata": {
        "id": "2nbEG7h0b1N6"
      }
    },
    {
      "cell_type": "code",
      "source": [
        "!rm -f out.puml out.pnf\n",
        "rudof.reset_all()"
      ],
      "metadata": {
        "id": "SKn-6FBLcAOi"
      },
      "execution_count": 46,
      "outputs": []
    },
    {
      "cell_type": "markdown",
      "source": [
        "A triple term can be declared enclosing it between `<<(` and `)>>`. For example:"
      ],
      "metadata": {
        "id": "KRVXarFNb3R2"
      }
    },
    {
      "cell_type": "code",
      "source": [
        "rudof.read_data_str(\"\"\"\n",
        "PREFIX :    <http://www.example.org/>\n",
        "PREFIX rdf: <http://www.w3.org/1999/02/22-rdf-syntax-ns#>\n",
        "\n",
        "_:e38  :familyName                     \"Smith\" .\n",
        "_:anno rdf:reifies <<( _:e38 :jobTitle \"Designer\" )>> .\n",
        "_:anno :accordingTo                     :eric .\n",
        " \"\"\")"
      ],
      "metadata": {
        "id": "YFNlU537b0yb"
      },
      "execution_count": 47,
      "outputs": []
    },
    {
      "cell_type": "code",
      "source": [
        "uml = rudof.data2plantuml_file('out.puml')"
      ],
      "metadata": {
        "id": "a-LI3oaOcTJC"
      },
      "execution_count": 48,
      "outputs": []
    },
    {
      "cell_type": "code",
      "source": [
        "!python -m plantuml out.puml"
      ],
      "metadata": {
        "id": "ZhkGPQyscYwz",
        "colab": {
          "base_uri": "https://localhost:8080/"
        },
        "outputId": "7328369d-200b-41d0-b35b-cfbbeca139fe"
      },
      "execution_count": 49,
      "outputs": [
        {
          "output_type": "stream",
          "name": "stdout",
          "text": [
            "[{'filename': 'out.puml', 'gen_success': True}]\n"
          ]
        }
      ]
    },
    {
      "cell_type": "code",
      "source": [
        "Image(f\"out.png\")"
      ],
      "metadata": {
        "id": "01xaro82cciN",
        "colab": {
          "base_uri": "https://localhost:8080/",
          "height": 388
        },
        "outputId": "969a9668-b52f-463f-c6c3-a92c7cf288d1"
      },
      "execution_count": 50,
      "outputs": [
        {
          "output_type": "execute_result",
          "data": {
            "image/png": "[encoded data removed]",
            "text/plain": [
              "<IPython.core.display.Image object>"
            ]
          },
          "metadata": {},
          "execution_count": 50
        }
      ]
    },
    {
      "cell_type": "markdown",
      "source": [
        "### Reifying triples"
      ],
      "metadata": {
        "id": "iWMQVoWgchXL"
      }
    },
    {
      "cell_type": "code",
      "source": [
        "!rm -f out.puml out.pnf\n",
        "rudof.reset_all()"
      ],
      "metadata": {
        "id": "rW4pPtohdQwc"
      },
      "execution_count": 51,
      "outputs": []
    },
    {
      "cell_type": "markdown",
      "source": [
        "Enclosing a triple between `<<` and `>>`, is a syntactic sugar that declares that there is a reifier whose object is that triple and that can be used to add more declarations about that reifier.\n",
        "\n",
        "For example:"
      ],
      "metadata": {
        "id": "OIAm5jIRck0C"
      }
    },
    {
      "cell_type": "code",
      "source": [
        "rudof.read_data_str(\"\"\"\n",
        " PREFIX :    <http://www.example.org/>\n",
        "PREFIX rdf: <http://www.w3.org/1999/02/22-rdf-syntax-ns#>\n",
        "\n",
        ":employee38 :familyName \"Smith\" .\n",
        "<< :employee38 :jobTitle \"Assistant Designer\" >> :accordingTo :employee22 .\n",
        " \"\"\")"
      ],
      "metadata": {
        "id": "eVatupSpdJRN"
      },
      "execution_count": 52,
      "outputs": []
    },
    {
      "cell_type": "code",
      "source": [
        "uml = rudof.data2plantuml_file('out.puml')\n",
        "!python -m plantuml out.puml\n",
        "Image(f\"out.png\")"
      ],
      "metadata": {
        "id": "fAR310j1dZiq",
        "colab": {
          "base_uri": "https://localhost:8080/",
          "height": 405
        },
        "outputId": "00e70a0e-d3eb-41f2-d54b-5c20d5a2fc3f"
      },
      "execution_count": 53,
      "outputs": [
        {
          "output_type": "stream",
          "name": "stdout",
          "text": [
            "[{'filename': 'out.puml', 'gen_success': True}]\n"
          ]
        },
        {
          "output_type": "execute_result",
          "data": {
            "image/png": "[encoded data removed]",
            "text/plain": [
              "<IPython.core.display.Image object>"
            ]
          },
          "metadata": {},
          "execution_count": 53
        }
      ]
    },
    {
      "cell_type": "markdown",
      "source": [
        "### Annotation syntax"
      ],
      "metadata": {
        "id": "r_SUp610dn1P"
      }
    },
    {
      "cell_type": "code",
      "source": [
        "# Clean the workspace\n",
        "!rm -f out.puml out.pnf\n",
        "rudof.reset_all()"
      ],
      "metadata": {
        "id": "kCgn0u2CeApq"
      },
      "execution_count": 54,
      "outputs": []
    },
    {
      "cell_type": "markdown",
      "source": [
        "It is also possible to use the annotation syntax where a statement can be annotated with `{|` and `|}` as follows:\n"
      ],
      "metadata": {
        "id": "teWMPNSQdsPr"
      }
    },
    {
      "cell_type": "code",
      "source": [
        "rudof.read_data_str(\"\"\"\n",
        " PREFIX : <http://example.com/>\n",
        " PREFIX xsd: <http://www.w3.org/2001/XMLSchema#>\n",
        " :alice :name \"Alice\" ~ :t {|\n",
        "   :statedBy :bob ;\n",
        "   :recorded \"2021-07-07\"^^xsd:date\n",
        " |} .\n",
        " \"\"\")"
      ],
      "metadata": {
        "id": "Trman2A3d9Py"
      },
      "execution_count": 55,
      "outputs": []
    },
    {
      "cell_type": "code",
      "source": [
        "uml = rudof.data2plantuml_file('out.puml')\n",
        "!python -m plantuml out.puml\n",
        "Image(f\"out.png\")"
      ],
      "metadata": {
        "id": "hnIFvo4PeUSz",
        "colab": {
          "base_uri": "https://localhost:8080/",
          "height": 422
        },
        "outputId": "f1540451-2c0d-4895-c0f6-776be67d3e35"
      },
      "execution_count": 56,
      "outputs": [
        {
          "output_type": "stream",
          "name": "stdout",
          "text": [
            "[{'filename': 'out.puml', 'gen_success': True}]\n"
          ]
        },
        {
          "output_type": "execute_result",
          "data": {
            "image/png": "[encoded data removed]",
            "text/plain": [
              "<IPython.core.display.Image object>"
            ]
          },
          "metadata": {},
          "execution_count": 56
        }
      ]
    },
    {
      "cell_type": "markdown",
      "source": [
        "Notice that in the visualization, we differentiate between a statement that is part of the graph which is represented by a box from a statement that is not part of the graph, which is represented by a cloud symbol."
      ],
      "metadata": {
        "id": "VySOS5cOemOr"
      }
    },
    {
      "cell_type": "markdown",
      "source": [
        "## Comparing Schemas"
      ],
      "metadata": {
        "id": "QtCQjCyUhkoI"
      }
    },
    {
      "cell_type": "markdown",
      "source": [
        "It is possible to use rudof to compare different schemas. For example:"
      ],
      "metadata": {
        "id": "EtecYMyOhooQ"
      }
    },
    {
      "cell_type": "code",
      "source": [
        "schema1 = \"\"\"\n",
        " PREFIX : <http://example.org/>\n",
        " PREFIX xsd: <http://www.w3.org/2001/XMLSchema#>\n",
        " :Person {\n",
        "    :name xsd:string ;\n",
        "    :age xsd:integer ;\n",
        "    :weight xsd:float ;\n",
        "    :worksFor .\n",
        " }\n",
        "\"\"\";"
      ],
      "metadata": {
        "id": "2m7-w7NEhvzo"
      },
      "execution_count": 57,
      "outputs": []
    },
    {
      "cell_type": "code",
      "source": [
        "schema2 = \"\"\"\n",
        " PREFIX ex: <http://example.org/>\n",
        " PREFIX xsd: <http://www.w3.org/2001/XMLSchema#>\n",
        " ex:Person {\n",
        "    ex:name xsd:string ;\n",
        "    ex:birthDate xsd:date ;\n",
        "    ex:worksFor .\n",
        "}\n",
        "\"\"\""
      ],
      "metadata": {
        "id": "u-DOFji_iIyw"
      },
      "execution_count": 58,
      "outputs": []
    },
    {
      "cell_type": "code",
      "source": [
        "result = rudof.compare_schemas_str(\n",
        "    schema1, schema2,\n",
        "    \"shex\", \"shex\",\n",
        "    \"shexc\", \"shexc\",\n",
        "    None, None,\n",
        "    \"http://example.org/Person\", \"http://example.org/Person\"\n",
        "    )"
      ],
      "metadata": {
        "id": "19TByao3icnw"
      },
      "execution_count": 59,
      "outputs": []
    },
    {
      "cell_type": "code",
      "source": [
        "print(f\"Result of comparison:\\n{result.as_json()}\")"
      ],
      "metadata": {
        "id": "At6iW8MB0CYo",
        "colab": {
          "base_uri": "https://localhost:8080/"
        },
        "outputId": "bc3c9b0a-e2c2-49ee-ccd8-5e0bc6597fbd"
      },
      "execution_count": 60,
      "outputs": [
        {
          "output_type": "stream",
          "name": "stdout",
          "text": [
            "Result of comparison:\n",
            "{\n",
            "  \"equal_properties\": {\n",
            "    \"http://example.org/worksFor\": {\n",
            "      \"description1\": {\n",
            "        \"iri_ref\": \"http://example.org/worksFor\"\n",
            "      },\n",
            "      \"description2\": {\n",
            "        \"iri_ref\": \"http://example.org/worksFor\"\n",
            "      }\n",
            "    },\n",
            "    \"http://example.org/name\": {\n",
            "      \"description1\": {\n",
            "        \"iri_ref\": \"http://example.org/name\",\n",
            "        \"value_constraint\": {\n",
            "          \"Datatype\": \"http://www.w3.org/2001/XMLSchema#string\"\n",
            "        }\n",
            "      },\n",
            "      \"description2\": {\n",
            "        \"iri_ref\": \"http://example.org/name\",\n",
            "        \"value_constraint\": {\n",
            "          \"Datatype\": \"http://www.w3.org/2001/XMLSchema#string\"\n",
            "        }\n",
            "      }\n",
            "    }\n",
            "  },\n",
            "  \"properties1\": {\n",
            "    \"http://example.org/weight\": {\n",
            "      \"description\": {\n",
            "        \"iri_ref\": \"http://example.org/weight\",\n",
            "        \"value_constraint\": {\n",
            "          \"Datatype\": \"http://www.w3.org/2001/XMLSchema#float\"\n",
            "        }\n",
            "      }\n",
            "    },\n",
            "    \"http://example.org/age\": {\n",
            "      \"description\": {\n",
            "        \"iri_ref\": \"http://example.org/age\",\n",
            "        \"value_constraint\": {\n",
            "          \"Datatype\": \"http://www.w3.org/2001/XMLSchema#integer\"\n",
            "        }\n",
            "      }\n",
            "    }\n",
            "  },\n",
            "  \"properties2\": {\n",
            "    \"http://example.org/birthDate\": {\n",
            "      \"description\": {\n",
            "        \"iri_ref\": \"http://example.org/birthDate\",\n",
            "        \"value_constraint\": {\n",
            "          \"Datatype\": \"http://www.w3.org/2001/XMLSchema#date\"\n",
            "        }\n",
            "      }\n",
            "    }\n",
            "  }\n",
            "}\n"
          ]
        }
      ]
    },
    {
      "cell_type": "markdown",
      "source": [
        "## Obtaining information about SPARQL endpoints"
      ],
      "metadata": {
        "id": "A4VA-d2WObtY"
      }
    },
    {
      "cell_type": "markdown",
      "source": [
        "### When the SPARQL endpoint directly generates the service description in RDF (Uniprot)"
      ],
      "metadata": {
        "id": "sDirLbGKTIL7"
      }
    },
    {
      "cell_type": "markdown",
      "source": [
        "It is possible to get information from SPARQL endpoints that publish [service descriptions](https://www.w3.org/TR/sparql11-service-description/) using the [VoID](https://www.w3.org/TR/void/) vocabulary."
      ],
      "metadata": {
        "id": "1U-sS7SBOhgB"
      }
    },
    {
      "cell_type": "code",
      "source": [
        "# @title\n",
        "\n",
        "rudof.reset_all()\n",
        "from pyrudof import ReaderMode, ServiceDescriptionFormat, QueryResultFormat"
      ],
      "metadata": {
        "id": "HloUZvbsWvNy"
      },
      "execution_count": 61,
      "outputs": []
    },
    {
      "cell_type": "code",
      "source": [
        "service = \"https://sparql.uniprot.org/sparql\"\n",
        "\n",
        "rudof.read_service_description_url(service, RDFFormat.Turtle, None, ReaderMode.Strict)\n"
      ],
      "metadata": {
        "id": "oQsDjRoSPEh4",
        "colab": {
          "base_uri": "https://localhost:8080/",
          "height": 176
        },
        "outputId": "db9c2072-61a2-4fdd-8264-d7228511e94f"
      },
      "execution_count": 62,
      "outputs": [
        {
          "output_type": "error",
          "ename": "AttributeError",
          "evalue": "'builtins.Rudof' object has no attribute 'read_service_description_url'",
          "traceback": [
            "\u001b[0;31m---------------------------------------------------------------------------\u001b[0m",
            "\u001b[0;31mAttributeError\u001b[0m                            Traceback (most recent call last)",
            "\u001b[0;32m/tmp/ipython-input-1096415327.py\u001b[0m in \u001b[0;36m<cell line: 0>\u001b[0;34m()\u001b[0m\n\u001b[1;32m      1\u001b[0m \u001b[0mservice\u001b[0m \u001b[0;34m=\u001b[0m \u001b[0;34m\"https://sparql.uniprot.org/sparql\"\u001b[0m\u001b[0;34m\u001b[0m\u001b[0;34m\u001b[0m\u001b[0m\n\u001b[1;32m      2\u001b[0m \u001b[0;34m\u001b[0m\u001b[0m\n\u001b[0;32m----> 3\u001b[0;31m \u001b[0mrudof\u001b[0m\u001b[0;34m.\u001b[0m\u001b[0mread_service_description_url\u001b[0m\u001b[0;34m(\u001b[0m\u001b[0mservice\u001b[0m\u001b[0;34m,\u001b[0m \u001b[0mRDFFormat\u001b[0m\u001b[0;34m.\u001b[0m\u001b[0mTurtle\u001b[0m\u001b[0;34m,\u001b[0m \u001b[0;32mNone\u001b[0m\u001b[0;34m,\u001b[0m \u001b[0mReaderMode\u001b[0m\u001b[0;34m.\u001b[0m\u001b[0mStrict\u001b[0m\u001b[0;34m)\u001b[0m\u001b[0;34m\u001b[0m\u001b[0;34m\u001b[0m\u001b[0m\n\u001b[0m",
            "\u001b[0;31mAttributeError\u001b[0m: 'builtins.Rudof' object has no attribute 'read_service_description_url'"
          ]
        }
      ]
    },
    {
      "cell_type": "markdown",
      "source": [
        "Now we can serialize the service description in JSON, for example, as:"
      ],
      "metadata": {
        "id": "S3sSUm_8mzz4"
      }
    },
    {
      "cell_type": "code",
      "source": [
        "service = rudof.get_service_description()\n",
        "service_str = service.serialize(ServiceDescriptionFormat.Json)\n",
        "print(f\"Service description in JSON:\\n{service_str}\")\n"
      ],
      "metadata": {
        "collapsed": true,
        "id": "CqCswH-_mxdx"
      },
      "execution_count": null,
      "outputs": []
    },
    {
      "cell_type": "markdown",
      "source": [
        "We also support the conversion from service descriptions to MIE format files:"
      ],
      "metadata": {
        "id": "3Wg5Uvl0W6O4"
      }
    },
    {
      "cell_type": "code",
      "source": [
        "mie = service.as_mie()\n",
        "print(f\"Service description in MIE format as YAML:\\n{mie.as_yaml()}\")"
      ],
      "metadata": {
        "id": "dQbSxYWrXATI"
      },
      "execution_count": null,
      "outputs": []
    },
    {
      "cell_type": "markdown",
      "source": [
        "### Using SPARQL CONSTRUCT queries"
      ],
      "metadata": {
        "id": "kAy1dkGyTdOL"
      }
    },
    {
      "cell_type": "markdown",
      "source": [
        "Some endpoints, like RDFPortal, have their service description located as a named graph which can be queried using a SPARQL CONSTRUCT query. In the case of RDFPortal, the service description is located in the graph [endpoint = \"https://plod.dbcls.jp/repositories/RDFPortal_VoID\"\n",
        "](endpoint = \"https://plod.dbcls.jp/repositories/RDFPortal_VoID\"\n",
        ")."
      ],
      "metadata": {
        "id": "naLcn02xZ8My"
      }
    },
    {
      "cell_type": "code",
      "source": [
        "endpoint = \"https://plod.dbcls.jp/repositories/RDFPortal_VoID\"\n"
      ],
      "metadata": {
        "id": "S5iSDqLbaeWi"
      },
      "execution_count": null,
      "outputs": []
    },
    {
      "cell_type": "code",
      "source": [
        "construct_query = \"\"\"\n",
        "PREFIX void: <http://rdfs.org/ns/void#>\n",
        "PREFIX sd: <http://www.w3.org/ns/sparql-service-description#>\n",
        "PREFIX rdfs: <http://www.w3.org/2000/01/rdf-schema#>\n",
        "\n",
        "CONSTRUCT WHERE {\n",
        "  [\n",
        "    a sd:Service ;\n",
        "    sd:defaultDataset [\n",
        "       a sd:Dataset ;\n",
        "       sd:namedGraph [\n",
        "         sd:name <http://sparql.uniprot.org/uniprot> ;\n",
        "         a sd:NamedGraph ;\n",
        "         sd:endpoint ?ep_url ;\n",
        "         sd:graph [\n",
        "           a void:Dataset ;\n",
        "           void:triples ?total_count ;\n",
        "           void:classes ?class_count ;\n",
        "           void:properties ?property_count ;\n",
        "           void:distinctObjects ?uniq_object_count ;\n",
        "           void:distinctSubjects ?uniq_subject_count ;\n",
        "           void:classPartition [\n",
        "             void:class ?class_name ;\n",
        "             void:entities ?class_triple_count\n",
        "           ] ;\n",
        "           void:propertyPartition [\n",
        "             void:property ?property_name ;\n",
        "             void:triples ?property_triple_count\n",
        "           ]\n",
        "         ]\n",
        "       ]\n",
        "     ]\n",
        "  ] .\n",
        "}\n",
        "\"\"\""
      ],
      "metadata": {
        "id": "1EpvWlA2aEzJ"
      },
      "execution_count": null,
      "outputs": []
    },
    {
      "cell_type": "markdown",
      "source": [
        "It is possible to run SPARQL CONSTRUCT queries in rudof using:"
      ],
      "metadata": {
        "id": "gjuoERRbalCD"
      }
    },
    {
      "cell_type": "code",
      "source": [
        "rudof.add_endpoint(endpoint)"
      ],
      "metadata": {
        "id": "NJ7kWNfgaq1z"
      },
      "execution_count": null,
      "outputs": []
    },
    {
      "cell_type": "code",
      "source": [
        "dbcls_turtle = rudof.run_query_construct_str(construct_query, QueryResultFormat.Turtle)\n",
        "\n"
      ],
      "metadata": {
        "id": "OO_zvbtnmaqE"
      },
      "execution_count": null,
      "outputs": []
    },
    {
      "cell_type": "code",
      "source": [
        "print(dbcls_turtle)"
      ],
      "metadata": {
        "id": "o5xSXw7OmdHo"
      },
      "execution_count": null,
      "outputs": []
    },
    {
      "cell_type": "code",
      "source": [
        "rudof.read_service_description_str(dbcls_turtle)"
      ],
      "metadata": {
        "id": "h09jmWBNaRyR"
      },
      "execution_count": null,
      "outputs": []
    },
    {
      "cell_type": "markdown",
      "source": [
        "And now we can get the information of the service description as before with:"
      ],
      "metadata": {
        "id": "aJ5zFAPSRzUH"
      }
    },
    {
      "cell_type": "code",
      "source": [],
      "metadata": {
        "id": "iCYhwH87R43F"
      },
      "execution_count": null,
      "outputs": []
    },
    {
      "cell_type": "code",
      "source": [
        "service = rudof.get_service_description()\n",
        "service_str = service.serialize(ServiceDescriptionFormat.Json)\n",
        "print(f\"Service description in JSON:\\n{service_str}\")\n"
      ],
      "metadata": {
        "collapsed": true,
        "id": "odPqb9jlR5MN"
      },
      "execution_count": null,
      "outputs": []
    }
  ]
}